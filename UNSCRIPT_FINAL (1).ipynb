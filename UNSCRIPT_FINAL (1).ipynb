{
  "cells": [
    {
      "cell_type": "markdown",
      "metadata": {
        "id": "jwk8_f7M6JKO"
      },
      "source": [
        "# Image Quality Assessment And Prediction of Image Quality, A OpenCV, skikit-image, BRISQUE combined approach."
      ]
    },
    {
      "cell_type": "code",
      "execution_count": 283,
      "metadata": {
        "id": "oXADAqq_45zp"
      },
      "outputs": [],
      "source": [
        "import numpy as np \n",
        "import pandas as pd \n",
        "import seaborn as sns\n",
        "from sklearn import preprocessing\n",
        "import matplotlib.pyplot as plt             \n",
        "%matplotlib inline\n",
        "from sklearn import metrics \n",
        "from sklearn.model_selection import train_test_split\n",
        "from sklearn.compose import ColumnTransformer\n",
        "from sklearn.model_selection import StratifiedKFold, cross_validate\n",
        "from sklearn.pipeline import Pipeline\n",
        "from sklearn.metrics import precision_score, recall_score\n",
        "from sklearn.linear_model import LogisticRegression\n",
        "from sklearn.tree import DecisionTreeClassifier\n",
        "from sklearn.svm import SVC\n",
        "from sklearn.ensemble import RandomForestClassifier, AdaBoostClassifier, GradientBoostingClassifier\n",
        "from sklearn.neighbors import KNeighborsClassifier\n",
        "from sklearn.naive_bayes import GaussianNB\n",
        "import warnings\n",
        "warnings.filterwarnings('ignore')\n",
        "%matplotlib inline"
      ]
    },
    {
      "cell_type": "code",
      "execution_count": 284,
      "metadata": {
        "colab": {
          "base_uri": "https://localhost:8080/",
          "height": 267
        },
        "id": "l4u7aPCH49PL",
        "outputId": "54ff7593-f2ca-49eb-b2dd-e157e28ab45f"
      },
      "outputs": [
        {
          "output_type": "execute_result",
          "data": {
            "text/plain": [
              "                                               image  type  brightness  \\\n",
              "0               An-example-of-blurry-images_Q640.jpg     0    0.716012   \n",
              "1  antique-grungy-french-invoice-receipt-cherub-g...     0    0.868586   \n",
              "2  Delhi_to_Office_DL-20-STF-30025_-_By_Road_Y8zQ...     0    0.972642   \n",
              "3                                      download.jpeg     0    0.706174   \n",
              "4  eb6ot1go_1986-bullet-bill_625x300_01_January_2...     0    0.869724   \n",
              "\n",
              "   contrast   blurrness  sharpness     noise  text_ratio  width  height  \\\n",
              "0  0.670523  100.000000   6.785205  0.103363   10.282814    640     640   \n",
              "1  0.811852  100.000000  16.094172  1.000000    0.203851    719     900   \n",
              "2  0.974531   11.019122   1.001927  0.001829    0.071625   1712    2378   \n",
              "3  0.671694  100.000000  34.209581  0.955788    7.824965    301     167   \n",
              "4  0.858001  100.000000  17.522551  0.998939    0.098471    650     767   \n",
              "\n",
              "   artifacts  \n",
              "0   0.161135  \n",
              "1   0.086727  \n",
              "2   0.080253  \n",
              "3   0.137682  \n",
              "4   0.066694  "
            ],
            "text/html": [
              "\n",
              "  <div id=\"df-52d17ac6-8c88-432f-bab8-6b11c0a58a2b\">\n",
              "    <div class=\"colab-df-container\">\n",
              "      <div>\n",
              "<style scoped>\n",
              "    .dataframe tbody tr th:only-of-type {\n",
              "        vertical-align: middle;\n",
              "    }\n",
              "\n",
              "    .dataframe tbody tr th {\n",
              "        vertical-align: top;\n",
              "    }\n",
              "\n",
              "    .dataframe thead th {\n",
              "        text-align: right;\n",
              "    }\n",
              "</style>\n",
              "<table border=\"1\" class=\"dataframe\">\n",
              "  <thead>\n",
              "    <tr style=\"text-align: right;\">\n",
              "      <th></th>\n",
              "      <th>image</th>\n",
              "      <th>type</th>\n",
              "      <th>brightness</th>\n",
              "      <th>contrast</th>\n",
              "      <th>blurrness</th>\n",
              "      <th>sharpness</th>\n",
              "      <th>noise</th>\n",
              "      <th>text_ratio</th>\n",
              "      <th>width</th>\n",
              "      <th>height</th>\n",
              "      <th>artifacts</th>\n",
              "    </tr>\n",
              "  </thead>\n",
              "  <tbody>\n",
              "    <tr>\n",
              "      <th>0</th>\n",
              "      <td>An-example-of-blurry-images_Q640.jpg</td>\n",
              "      <td>0</td>\n",
              "      <td>0.716012</td>\n",
              "      <td>0.670523</td>\n",
              "      <td>100.000000</td>\n",
              "      <td>6.785205</td>\n",
              "      <td>0.103363</td>\n",
              "      <td>10.282814</td>\n",
              "      <td>640</td>\n",
              "      <td>640</td>\n",
              "      <td>0.161135</td>\n",
              "    </tr>\n",
              "    <tr>\n",
              "      <th>1</th>\n",
              "      <td>antique-grungy-french-invoice-receipt-cherub-g...</td>\n",
              "      <td>0</td>\n",
              "      <td>0.868586</td>\n",
              "      <td>0.811852</td>\n",
              "      <td>100.000000</td>\n",
              "      <td>16.094172</td>\n",
              "      <td>1.000000</td>\n",
              "      <td>0.203851</td>\n",
              "      <td>719</td>\n",
              "      <td>900</td>\n",
              "      <td>0.086727</td>\n",
              "    </tr>\n",
              "    <tr>\n",
              "      <th>2</th>\n",
              "      <td>Delhi_to_Office_DL-20-STF-30025_-_By_Road_Y8zQ...</td>\n",
              "      <td>0</td>\n",
              "      <td>0.972642</td>\n",
              "      <td>0.974531</td>\n",
              "      <td>11.019122</td>\n",
              "      <td>1.001927</td>\n",
              "      <td>0.001829</td>\n",
              "      <td>0.071625</td>\n",
              "      <td>1712</td>\n",
              "      <td>2378</td>\n",
              "      <td>0.080253</td>\n",
              "    </tr>\n",
              "    <tr>\n",
              "      <th>3</th>\n",
              "      <td>download.jpeg</td>\n",
              "      <td>0</td>\n",
              "      <td>0.706174</td>\n",
              "      <td>0.671694</td>\n",
              "      <td>100.000000</td>\n",
              "      <td>34.209581</td>\n",
              "      <td>0.955788</td>\n",
              "      <td>7.824965</td>\n",
              "      <td>301</td>\n",
              "      <td>167</td>\n",
              "      <td>0.137682</td>\n",
              "    </tr>\n",
              "    <tr>\n",
              "      <th>4</th>\n",
              "      <td>eb6ot1go_1986-bullet-bill_625x300_01_January_2...</td>\n",
              "      <td>0</td>\n",
              "      <td>0.869724</td>\n",
              "      <td>0.858001</td>\n",
              "      <td>100.000000</td>\n",
              "      <td>17.522551</td>\n",
              "      <td>0.998939</td>\n",
              "      <td>0.098471</td>\n",
              "      <td>650</td>\n",
              "      <td>767</td>\n",
              "      <td>0.066694</td>\n",
              "    </tr>\n",
              "  </tbody>\n",
              "</table>\n",
              "</div>\n",
              "      <button class=\"colab-df-convert\" onclick=\"convertToInteractive('df-52d17ac6-8c88-432f-bab8-6b11c0a58a2b')\"\n",
              "              title=\"Convert this dataframe to an interactive table.\"\n",
              "              style=\"display:none;\">\n",
              "        \n",
              "  <svg xmlns=\"http://www.w3.org/2000/svg\" height=\"24px\"viewBox=\"0 0 24 24\"\n",
              "       width=\"24px\">\n",
              "    <path d=\"M0 0h24v24H0V0z\" fill=\"none\"/>\n",
              "    <path d=\"M18.56 5.44l.94 2.06.94-2.06 2.06-.94-2.06-.94-.94-2.06-.94 2.06-2.06.94zm-11 1L8.5 8.5l.94-2.06 2.06-.94-2.06-.94L8.5 2.5l-.94 2.06-2.06.94zm10 10l.94 2.06.94-2.06 2.06-.94-2.06-.94-.94-2.06-.94 2.06-2.06.94z\"/><path d=\"M17.41 7.96l-1.37-1.37c-.4-.4-.92-.59-1.43-.59-.52 0-1.04.2-1.43.59L10.3 9.45l-7.72 7.72c-.78.78-.78 2.05 0 2.83L4 21.41c.39.39.9.59 1.41.59.51 0 1.02-.2 1.41-.59l7.78-7.78 2.81-2.81c.8-.78.8-2.07 0-2.86zM5.41 20L4 18.59l7.72-7.72 1.47 1.35L5.41 20z\"/>\n",
              "  </svg>\n",
              "      </button>\n",
              "      \n",
              "  <style>\n",
              "    .colab-df-container {\n",
              "      display:flex;\n",
              "      flex-wrap:wrap;\n",
              "      gap: 12px;\n",
              "    }\n",
              "\n",
              "    .colab-df-convert {\n",
              "      background-color: #E8F0FE;\n",
              "      border: none;\n",
              "      border-radius: 50%;\n",
              "      cursor: pointer;\n",
              "      display: none;\n",
              "      fill: #1967D2;\n",
              "      height: 32px;\n",
              "      padding: 0 0 0 0;\n",
              "      width: 32px;\n",
              "    }\n",
              "\n",
              "    .colab-df-convert:hover {\n",
              "      background-color: #E2EBFA;\n",
              "      box-shadow: 0px 1px 2px rgba(60, 64, 67, 0.3), 0px 1px 3px 1px rgba(60, 64, 67, 0.15);\n",
              "      fill: #174EA6;\n",
              "    }\n",
              "\n",
              "    [theme=dark] .colab-df-convert {\n",
              "      background-color: #3B4455;\n",
              "      fill: #D2E3FC;\n",
              "    }\n",
              "\n",
              "    [theme=dark] .colab-df-convert:hover {\n",
              "      background-color: #434B5C;\n",
              "      box-shadow: 0px 1px 3px 1px rgba(0, 0, 0, 0.15);\n",
              "      filter: drop-shadow(0px 1px 2px rgba(0, 0, 0, 0.3));\n",
              "      fill: #FFFFFF;\n",
              "    }\n",
              "  </style>\n",
              "\n",
              "      <script>\n",
              "        const buttonEl =\n",
              "          document.querySelector('#df-52d17ac6-8c88-432f-bab8-6b11c0a58a2b button.colab-df-convert');\n",
              "        buttonEl.style.display =\n",
              "          google.colab.kernel.accessAllowed ? 'block' : 'none';\n",
              "\n",
              "        async function convertToInteractive(key) {\n",
              "          const element = document.querySelector('#df-52d17ac6-8c88-432f-bab8-6b11c0a58a2b');\n",
              "          const dataTable =\n",
              "            await google.colab.kernel.invokeFunction('convertToInteractive',\n",
              "                                                     [key], {});\n",
              "          if (!dataTable) return;\n",
              "\n",
              "          const docLinkHtml = 'Like what you see? Visit the ' +\n",
              "            '<a target=\"_blank\" href=https://colab.research.google.com/notebooks/data_table.ipynb>data table notebook</a>'\n",
              "            + ' to learn more about interactive tables.';\n",
              "          element.innerHTML = '';\n",
              "          dataTable['output_type'] = 'display_data';\n",
              "          await google.colab.output.renderOutput(dataTable, element);\n",
              "          const docLink = document.createElement('div');\n",
              "          docLink.innerHTML = docLinkHtml;\n",
              "          element.appendChild(docLink);\n",
              "        }\n",
              "      </script>\n",
              "    </div>\n",
              "  </div>\n",
              "  "
            ]
          },
          "metadata": {},
          "execution_count": 284
        }
      ],
      "source": [
        "df= pd.read_csv('/content/datasetV2.csv')\n",
        "df.head()"
      ]
    },
    {
      "cell_type": "code",
      "execution_count": 285,
      "metadata": {
        "colab": {
          "base_uri": "https://localhost:8080/",
          "height": 300
        },
        "id": "QeZytATJ49Ry",
        "outputId": "c7a43887-0c87-4a66-c8e4-7373a4865718"
      },
      "outputs": [
        {
          "output_type": "execute_result",
          "data": {
            "text/plain": [
              "             type  brightness    contrast   blurrness   sharpness       noise  \\\n",
              "count  189.000000  189.000000  189.000000  189.000000  189.000000  189.000000   \n",
              "mean     1.708995    0.869317    0.885599   94.620494   20.442874    0.171830   \n",
              "std      1.187243    0.159707    0.142474   20.365954   14.087296    0.290803   \n",
              "min      0.000000    0.218116    0.329836    5.294865    0.499029    0.000000   \n",
              "25%      1.000000    0.869724    0.891961  100.000000   11.543743    0.000008   \n",
              "50%      2.000000    0.934592    0.943716  100.000000   17.978914    0.044776   \n",
              "75%      3.000000    0.957303    0.966843  100.000000   26.973159    0.162449   \n",
              "max      3.000000    0.995737    0.996700  100.000000   87.797695    1.000000   \n",
              "\n",
              "        text_ratio        width       height   artifacts  \n",
              "count   187.000000   189.000000   189.000000  189.000000  \n",
              "mean     27.708053   989.111111  1223.354497    0.150874  \n",
              "std     354.827725   580.992056   777.214623    0.178592  \n",
              "min       0.002514   166.000000   167.000000    0.002514  \n",
              "25%       0.061118   585.000000   666.000000    0.053020  \n",
              "50%       0.094854   700.000000   856.000000    0.081176  \n",
              "75%       0.226382  1630.000000  1920.000000    0.158808  \n",
              "max    4852.333333  3072.000000  4128.000000    0.920041  "
            ],
            "text/html": [
              "\n",
              "  <div id=\"df-a78463e6-88ae-4eca-bd33-a36115554de9\">\n",
              "    <div class=\"colab-df-container\">\n",
              "      <div>\n",
              "<style scoped>\n",
              "    .dataframe tbody tr th:only-of-type {\n",
              "        vertical-align: middle;\n",
              "    }\n",
              "\n",
              "    .dataframe tbody tr th {\n",
              "        vertical-align: top;\n",
              "    }\n",
              "\n",
              "    .dataframe thead th {\n",
              "        text-align: right;\n",
              "    }\n",
              "</style>\n",
              "<table border=\"1\" class=\"dataframe\">\n",
              "  <thead>\n",
              "    <tr style=\"text-align: right;\">\n",
              "      <th></th>\n",
              "      <th>type</th>\n",
              "      <th>brightness</th>\n",
              "      <th>contrast</th>\n",
              "      <th>blurrness</th>\n",
              "      <th>sharpness</th>\n",
              "      <th>noise</th>\n",
              "      <th>text_ratio</th>\n",
              "      <th>width</th>\n",
              "      <th>height</th>\n",
              "      <th>artifacts</th>\n",
              "    </tr>\n",
              "  </thead>\n",
              "  <tbody>\n",
              "    <tr>\n",
              "      <th>count</th>\n",
              "      <td>189.000000</td>\n",
              "      <td>189.000000</td>\n",
              "      <td>189.000000</td>\n",
              "      <td>189.000000</td>\n",
              "      <td>189.000000</td>\n",
              "      <td>189.000000</td>\n",
              "      <td>187.000000</td>\n",
              "      <td>189.000000</td>\n",
              "      <td>189.000000</td>\n",
              "      <td>189.000000</td>\n",
              "    </tr>\n",
              "    <tr>\n",
              "      <th>mean</th>\n",
              "      <td>1.708995</td>\n",
              "      <td>0.869317</td>\n",
              "      <td>0.885599</td>\n",
              "      <td>94.620494</td>\n",
              "      <td>20.442874</td>\n",
              "      <td>0.171830</td>\n",
              "      <td>27.708053</td>\n",
              "      <td>989.111111</td>\n",
              "      <td>1223.354497</td>\n",
              "      <td>0.150874</td>\n",
              "    </tr>\n",
              "    <tr>\n",
              "      <th>std</th>\n",
              "      <td>1.187243</td>\n",
              "      <td>0.159707</td>\n",
              "      <td>0.142474</td>\n",
              "      <td>20.365954</td>\n",
              "      <td>14.087296</td>\n",
              "      <td>0.290803</td>\n",
              "      <td>354.827725</td>\n",
              "      <td>580.992056</td>\n",
              "      <td>777.214623</td>\n",
              "      <td>0.178592</td>\n",
              "    </tr>\n",
              "    <tr>\n",
              "      <th>min</th>\n",
              "      <td>0.000000</td>\n",
              "      <td>0.218116</td>\n",
              "      <td>0.329836</td>\n",
              "      <td>5.294865</td>\n",
              "      <td>0.499029</td>\n",
              "      <td>0.000000</td>\n",
              "      <td>0.002514</td>\n",
              "      <td>166.000000</td>\n",
              "      <td>167.000000</td>\n",
              "      <td>0.002514</td>\n",
              "    </tr>\n",
              "    <tr>\n",
              "      <th>25%</th>\n",
              "      <td>1.000000</td>\n",
              "      <td>0.869724</td>\n",
              "      <td>0.891961</td>\n",
              "      <td>100.000000</td>\n",
              "      <td>11.543743</td>\n",
              "      <td>0.000008</td>\n",
              "      <td>0.061118</td>\n",
              "      <td>585.000000</td>\n",
              "      <td>666.000000</td>\n",
              "      <td>0.053020</td>\n",
              "    </tr>\n",
              "    <tr>\n",
              "      <th>50%</th>\n",
              "      <td>2.000000</td>\n",
              "      <td>0.934592</td>\n",
              "      <td>0.943716</td>\n",
              "      <td>100.000000</td>\n",
              "      <td>17.978914</td>\n",
              "      <td>0.044776</td>\n",
              "      <td>0.094854</td>\n",
              "      <td>700.000000</td>\n",
              "      <td>856.000000</td>\n",
              "      <td>0.081176</td>\n",
              "    </tr>\n",
              "    <tr>\n",
              "      <th>75%</th>\n",
              "      <td>3.000000</td>\n",
              "      <td>0.957303</td>\n",
              "      <td>0.966843</td>\n",
              "      <td>100.000000</td>\n",
              "      <td>26.973159</td>\n",
              "      <td>0.162449</td>\n",
              "      <td>0.226382</td>\n",
              "      <td>1630.000000</td>\n",
              "      <td>1920.000000</td>\n",
              "      <td>0.158808</td>\n",
              "    </tr>\n",
              "    <tr>\n",
              "      <th>max</th>\n",
              "      <td>3.000000</td>\n",
              "      <td>0.995737</td>\n",
              "      <td>0.996700</td>\n",
              "      <td>100.000000</td>\n",
              "      <td>87.797695</td>\n",
              "      <td>1.000000</td>\n",
              "      <td>4852.333333</td>\n",
              "      <td>3072.000000</td>\n",
              "      <td>4128.000000</td>\n",
              "      <td>0.920041</td>\n",
              "    </tr>\n",
              "  </tbody>\n",
              "</table>\n",
              "</div>\n",
              "      <button class=\"colab-df-convert\" onclick=\"convertToInteractive('df-a78463e6-88ae-4eca-bd33-a36115554de9')\"\n",
              "              title=\"Convert this dataframe to an interactive table.\"\n",
              "              style=\"display:none;\">\n",
              "        \n",
              "  <svg xmlns=\"http://www.w3.org/2000/svg\" height=\"24px\"viewBox=\"0 0 24 24\"\n",
              "       width=\"24px\">\n",
              "    <path d=\"M0 0h24v24H0V0z\" fill=\"none\"/>\n",
              "    <path d=\"M18.56 5.44l.94 2.06.94-2.06 2.06-.94-2.06-.94-.94-2.06-.94 2.06-2.06.94zm-11 1L8.5 8.5l.94-2.06 2.06-.94-2.06-.94L8.5 2.5l-.94 2.06-2.06.94zm10 10l.94 2.06.94-2.06 2.06-.94-2.06-.94-.94-2.06-.94 2.06-2.06.94z\"/><path d=\"M17.41 7.96l-1.37-1.37c-.4-.4-.92-.59-1.43-.59-.52 0-1.04.2-1.43.59L10.3 9.45l-7.72 7.72c-.78.78-.78 2.05 0 2.83L4 21.41c.39.39.9.59 1.41.59.51 0 1.02-.2 1.41-.59l7.78-7.78 2.81-2.81c.8-.78.8-2.07 0-2.86zM5.41 20L4 18.59l7.72-7.72 1.47 1.35L5.41 20z\"/>\n",
              "  </svg>\n",
              "      </button>\n",
              "      \n",
              "  <style>\n",
              "    .colab-df-container {\n",
              "      display:flex;\n",
              "      flex-wrap:wrap;\n",
              "      gap: 12px;\n",
              "    }\n",
              "\n",
              "    .colab-df-convert {\n",
              "      background-color: #E8F0FE;\n",
              "      border: none;\n",
              "      border-radius: 50%;\n",
              "      cursor: pointer;\n",
              "      display: none;\n",
              "      fill: #1967D2;\n",
              "      height: 32px;\n",
              "      padding: 0 0 0 0;\n",
              "      width: 32px;\n",
              "    }\n",
              "\n",
              "    .colab-df-convert:hover {\n",
              "      background-color: #E2EBFA;\n",
              "      box-shadow: 0px 1px 2px rgba(60, 64, 67, 0.3), 0px 1px 3px 1px rgba(60, 64, 67, 0.15);\n",
              "      fill: #174EA6;\n",
              "    }\n",
              "\n",
              "    [theme=dark] .colab-df-convert {\n",
              "      background-color: #3B4455;\n",
              "      fill: #D2E3FC;\n",
              "    }\n",
              "\n",
              "    [theme=dark] .colab-df-convert:hover {\n",
              "      background-color: #434B5C;\n",
              "      box-shadow: 0px 1px 3px 1px rgba(0, 0, 0, 0.15);\n",
              "      filter: drop-shadow(0px 1px 2px rgba(0, 0, 0, 0.3));\n",
              "      fill: #FFFFFF;\n",
              "    }\n",
              "  </style>\n",
              "\n",
              "      <script>\n",
              "        const buttonEl =\n",
              "          document.querySelector('#df-a78463e6-88ae-4eca-bd33-a36115554de9 button.colab-df-convert');\n",
              "        buttonEl.style.display =\n",
              "          google.colab.kernel.accessAllowed ? 'block' : 'none';\n",
              "\n",
              "        async function convertToInteractive(key) {\n",
              "          const element = document.querySelector('#df-a78463e6-88ae-4eca-bd33-a36115554de9');\n",
              "          const dataTable =\n",
              "            await google.colab.kernel.invokeFunction('convertToInteractive',\n",
              "                                                     [key], {});\n",
              "          if (!dataTable) return;\n",
              "\n",
              "          const docLinkHtml = 'Like what you see? Visit the ' +\n",
              "            '<a target=\"_blank\" href=https://colab.research.google.com/notebooks/data_table.ipynb>data table notebook</a>'\n",
              "            + ' to learn more about interactive tables.';\n",
              "          element.innerHTML = '';\n",
              "          dataTable['output_type'] = 'display_data';\n",
              "          await google.colab.output.renderOutput(dataTable, element);\n",
              "          const docLink = document.createElement('div');\n",
              "          docLink.innerHTML = docLinkHtml;\n",
              "          element.appendChild(docLink);\n",
              "        }\n",
              "      </script>\n",
              "    </div>\n",
              "  </div>\n",
              "  "
            ]
          },
          "metadata": {},
          "execution_count": 285
        }
      ],
      "source": [
        "df.describe()"
      ]
    },
    {
      "cell_type": "code",
      "execution_count": 286,
      "metadata": {
        "colab": {
          "base_uri": "https://localhost:8080/"
        },
        "id": "8vqpfCSv49Uf",
        "outputId": "3b3dc253-df4a-4534-d48c-35f194a49201"
      },
      "outputs": [
        {
          "output_type": "stream",
          "name": "stdout",
          "text": [
            "<class 'pandas.core.frame.DataFrame'>\n",
            "RangeIndex: 189 entries, 0 to 188\n",
            "Data columns (total 11 columns):\n",
            " #   Column      Non-Null Count  Dtype  \n",
            "---  ------      --------------  -----  \n",
            " 0   image       189 non-null    object \n",
            " 1   type        189 non-null    int64  \n",
            " 2   brightness  189 non-null    float64\n",
            " 3   contrast    189 non-null    float64\n",
            " 4   blurrness   189 non-null    float64\n",
            " 5   sharpness   189 non-null    float64\n",
            " 6   noise       189 non-null    float64\n",
            " 7   text_ratio  187 non-null    float64\n",
            " 8   width       189 non-null    int64  \n",
            " 9   height      189 non-null    int64  \n",
            " 10  artifacts   189 non-null    float64\n",
            "dtypes: float64(7), int64(3), object(1)\n",
            "memory usage: 16.4+ KB\n"
          ]
        }
      ],
      "source": [
        "df.info()"
      ]
    },
    {
      "cell_type": "code",
      "execution_count": 287,
      "metadata": {
        "colab": {
          "base_uri": "https://localhost:8080/"
        },
        "id": "96MIOHSC49Xh",
        "outputId": "ae40bd15-d3d9-4a3f-b2bb-512012cba760"
      },
      "outputs": [
        {
          "output_type": "execute_result",
          "data": {
            "text/plain": [
              "(189, 11)"
            ]
          },
          "metadata": {},
          "execution_count": 287
        }
      ],
      "source": [
        "df.shape"
      ]
    },
    {
      "cell_type": "code",
      "execution_count": 288,
      "metadata": {
        "colab": {
          "base_uri": "https://localhost:8080/"
        },
        "id": "_XtjDd1F49aC",
        "outputId": "f9ef3284-2ada-407b-bd4f-4f7c4ce156e5"
      },
      "outputs": [
        {
          "output_type": "execute_result",
          "data": {
            "text/plain": [
              "0"
            ]
          },
          "metadata": {},
          "execution_count": 288
        }
      ],
      "source": [
        "sum(df.duplicated())"
      ]
    },
    {
      "cell_type": "markdown",
      "metadata": {
        "id": "zcSw596BVQAG"
      },
      "source": [
        "No duplicates"
      ]
    },
    {
      "cell_type": "markdown",
      "metadata": {
        "id": "RqWcg1vY6HT9"
      },
      "source": [
        "# EDA: "
      ]
    },
    {
      "cell_type": "code",
      "execution_count": 289,
      "metadata": {
        "colab": {
          "base_uri": "https://localhost:8080/",
          "height": 332
        },
        "id": "bI00PWh-49db",
        "outputId": "5517c89a-22b4-46b0-c164-5356d2729fd4"
      },
      "outputs": [
        {
          "output_type": "display_data",
          "data": {
            "text/plain": [
              "<Figure size 1080x360 with 1 Axes>"
            ],
            "image/png": "[encoded data removed]"
          },
          "metadata": {
            "needs_background": "light"
          }
        }
      ],
      "source": [
        "df['type'].value_counts().sort_values().plot(kind=\"bar\", title=\"Diff image types\", figsize=(15,5))\n",
        "plt.show()"
      ]
    },
    {
      "cell_type": "code",
      "execution_count": 290,
      "metadata": {
        "colab": {
          "base_uri": "https://localhost:8080/",
          "height": 1000
        },
        "id": "IPehVvcR49gV",
        "outputId": "59f13373-b773-4704-ba4c-6258182e1064"
      },
      "outputs": [
        {
          "output_type": "display_data",
          "data": {
            "text/plain": [
              "<Figure size 1440x1800 with 2 Axes>"
            ],
            "image/png": "[encoded data removed]"
          },
          "metadata": {
            "needs_background": "light"
          }
        }
      ],
      "source": [
        "corr= df.corr()\n",
        "fig,ax= plt.subplots(figsize=(20,25))\n",
        "sns.heatmap(corr,annot=True, square=True,ax=ax)\n",
        "plt.yticks(rotation=360)\n",
        "plt.show()"
      ]
    },
    {
      "cell_type": "code",
      "execution_count": 306,
      "metadata": {
        "id": "9sRhbykQ49i5",
        "colab": {
          "base_uri": "https://localhost:8080/",
          "height": 311
        },
        "outputId": "ba9f4447-82a6-45f1-b1b0-6bce91f81087"
      },
      "outputs": [
        {
          "output_type": "error",
          "ename": "KeyError",
          "evalue": "ignored",
          "traceback": [
            "\u001b[0;31m---------------------------------------------------------------------------\u001b[0m",
            "\u001b[0;31mKeyError\u001b[0m                                  Traceback (most recent call last)",
            "\u001b[0;32m<ipython-input-306-93d23fd961a5>\u001b[0m in \u001b[0;36m<module>\u001b[0;34m\u001b[0m\n\u001b[0;32m----> 1\u001b[0;31m \u001b[0mdf\u001b[0m \u001b[0;34m=\u001b[0m \u001b[0mdf\u001b[0m\u001b[0;34m.\u001b[0m\u001b[0mdrop\u001b[0m\u001b[0;34m(\u001b[0m\u001b[0;34m[\u001b[0m\u001b[0;34m'image'\u001b[0m\u001b[0;34m,\u001b[0m\u001b[0;34m'sharpness'\u001b[0m\u001b[0;34m,\u001b[0m\u001b[0;34m'width'\u001b[0m\u001b[0;34m,\u001b[0m\u001b[0;34m'height'\u001b[0m\u001b[0;34m]\u001b[0m\u001b[0;34m,\u001b[0m\u001b[0maxis\u001b[0m\u001b[0;34m=\u001b[0m \u001b[0;36m1\u001b[0m\u001b[0;34m)\u001b[0m\u001b[0;34m\u001b[0m\u001b[0;34m\u001b[0m\u001b[0m\n\u001b[0m",
            "\u001b[0;32m/usr/local/lib/python3.8/dist-packages/pandas/util/_decorators.py\u001b[0m in \u001b[0;36mwrapper\u001b[0;34m(*args, **kwargs)\u001b[0m\n\u001b[1;32m    309\u001b[0m                     \u001b[0mstacklevel\u001b[0m\u001b[0;34m=\u001b[0m\u001b[0mstacklevel\u001b[0m\u001b[0;34m,\u001b[0m\u001b[0;34m\u001b[0m\u001b[0;34m\u001b[0m\u001b[0m\n\u001b[1;32m    310\u001b[0m                 )\n\u001b[0;32m--> 311\u001b[0;31m             \u001b[0;32mreturn\u001b[0m \u001b[0mfunc\u001b[0m\u001b[0;34m(\u001b[0m\u001b[0;34m*\u001b[0m\u001b[0margs\u001b[0m\u001b[0;34m,\u001b[0m \u001b[0;34m**\u001b[0m\u001b[0mkwargs\u001b[0m\u001b[0;34m)\u001b[0m\u001b[0;34m\u001b[0m\u001b[0;34m\u001b[0m\u001b[0m\n\u001b[0m\u001b[1;32m    312\u001b[0m \u001b[0;34m\u001b[0m\u001b[0m\n\u001b[1;32m    313\u001b[0m         \u001b[0;32mreturn\u001b[0m \u001b[0mwrapper\u001b[0m\u001b[0;34m\u001b[0m\u001b[0;34m\u001b[0m\u001b[0m\n",
            "\u001b[0;32m/usr/local/lib/python3.8/dist-packages/pandas/core/frame.py\u001b[0m in \u001b[0;36mdrop\u001b[0;34m(self, labels, axis, index, columns, level, inplace, errors)\u001b[0m\n\u001b[1;32m   4904\u001b[0m                 \u001b[0mweight\u001b[0m  \u001b[0;36m1.0\u001b[0m     \u001b[0;36m0.8\u001b[0m\u001b[0;34m\u001b[0m\u001b[0;34m\u001b[0m\u001b[0m\n\u001b[1;32m   4905\u001b[0m         \"\"\"\n\u001b[0;32m-> 4906\u001b[0;31m         return super().drop(\n\u001b[0m\u001b[1;32m   4907\u001b[0m             \u001b[0mlabels\u001b[0m\u001b[0;34m=\u001b[0m\u001b[0mlabels\u001b[0m\u001b[0;34m,\u001b[0m\u001b[0;34m\u001b[0m\u001b[0;34m\u001b[0m\u001b[0m\n\u001b[1;32m   4908\u001b[0m             \u001b[0maxis\u001b[0m\u001b[0;34m=\u001b[0m\u001b[0maxis\u001b[0m\u001b[0;34m,\u001b[0m\u001b[0;34m\u001b[0m\u001b[0;34m\u001b[0m\u001b[0m\n",
            "\u001b[0;32m/usr/local/lib/python3.8/dist-packages/pandas/core/generic.py\u001b[0m in \u001b[0;36mdrop\u001b[0;34m(self, labels, axis, index, columns, level, inplace, errors)\u001b[0m\n\u001b[1;32m   4148\u001b[0m         \u001b[0;32mfor\u001b[0m \u001b[0maxis\u001b[0m\u001b[0;34m,\u001b[0m \u001b[0mlabels\u001b[0m \u001b[0;32min\u001b[0m \u001b[0maxes\u001b[0m\u001b[0;34m.\u001b[0m\u001b[0mitems\u001b[0m\u001b[0;34m(\u001b[0m\u001b[0;34m)\u001b[0m\u001b[0;34m:\u001b[0m\u001b[0;34m\u001b[0m\u001b[0;34m\u001b[0m\u001b[0m\n\u001b[1;32m   4149\u001b[0m             \u001b[0;32mif\u001b[0m \u001b[0mlabels\u001b[0m \u001b[0;32mis\u001b[0m \u001b[0;32mnot\u001b[0m \u001b[0;32mNone\u001b[0m\u001b[0;34m:\u001b[0m\u001b[0;34m\u001b[0m\u001b[0;34m\u001b[0m\u001b[0m\n\u001b[0;32m-> 4150\u001b[0;31m                 \u001b[0mobj\u001b[0m \u001b[0;34m=\u001b[0m \u001b[0mobj\u001b[0m\u001b[0;34m.\u001b[0m\u001b[0m_drop_axis\u001b[0m\u001b[0;34m(\u001b[0m\u001b[0mlabels\u001b[0m\u001b[0;34m,\u001b[0m \u001b[0maxis\u001b[0m\u001b[0;34m,\u001b[0m \u001b[0mlevel\u001b[0m\u001b[0;34m=\u001b[0m\u001b[0mlevel\u001b[0m\u001b[0;34m,\u001b[0m \u001b[0merrors\u001b[0m\u001b[0;34m=\u001b[0m\u001b[0merrors\u001b[0m\u001b[0;34m)\u001b[0m\u001b[0;34m\u001b[0m\u001b[0;34m\u001b[0m\u001b[0m\n\u001b[0m\u001b[1;32m   4151\u001b[0m \u001b[0;34m\u001b[0m\u001b[0m\n\u001b[1;32m   4152\u001b[0m         \u001b[0;32mif\u001b[0m \u001b[0minplace\u001b[0m\u001b[0;34m:\u001b[0m\u001b[0;34m\u001b[0m\u001b[0;34m\u001b[0m\u001b[0m\n",
            "\u001b[0;32m/usr/local/lib/python3.8/dist-packages/pandas/core/generic.py\u001b[0m in \u001b[0;36m_drop_axis\u001b[0;34m(self, labels, axis, level, errors)\u001b[0m\n\u001b[1;32m   4183\u001b[0m                 \u001b[0mnew_axis\u001b[0m \u001b[0;34m=\u001b[0m \u001b[0maxis\u001b[0m\u001b[0;34m.\u001b[0m\u001b[0mdrop\u001b[0m\u001b[0;34m(\u001b[0m\u001b[0mlabels\u001b[0m\u001b[0;34m,\u001b[0m \u001b[0mlevel\u001b[0m\u001b[0;34m=\u001b[0m\u001b[0mlevel\u001b[0m\u001b[0;34m,\u001b[0m \u001b[0merrors\u001b[0m\u001b[0;34m=\u001b[0m\u001b[0merrors\u001b[0m\u001b[0;34m)\u001b[0m\u001b[0;34m\u001b[0m\u001b[0;34m\u001b[0m\u001b[0m\n\u001b[1;32m   4184\u001b[0m             \u001b[0;32melse\u001b[0m\u001b[0;34m:\u001b[0m\u001b[0;34m\u001b[0m\u001b[0;34m\u001b[0m\u001b[0m\n\u001b[0;32m-> 4185\u001b[0;31m                 \u001b[0mnew_axis\u001b[0m \u001b[0;34m=\u001b[0m \u001b[0maxis\u001b[0m\u001b[0;34m.\u001b[0m\u001b[0mdrop\u001b[0m\u001b[0;34m(\u001b[0m\u001b[0mlabels\u001b[0m\u001b[0;34m,\u001b[0m \u001b[0merrors\u001b[0m\u001b[0;34m=\u001b[0m\u001b[0merrors\u001b[0m\u001b[0;34m)\u001b[0m\u001b[0;34m\u001b[0m\u001b[0;34m\u001b[0m\u001b[0m\n\u001b[0m\u001b[1;32m   4186\u001b[0m             \u001b[0mresult\u001b[0m \u001b[0;34m=\u001b[0m \u001b[0mself\u001b[0m\u001b[0;34m.\u001b[0m\u001b[0mreindex\u001b[0m\u001b[0;34m(\u001b[0m\u001b[0;34m**\u001b[0m\u001b[0;34m{\u001b[0m\u001b[0maxis_name\u001b[0m\u001b[0;34m:\u001b[0m \u001b[0mnew_axis\u001b[0m\u001b[0;34m}\u001b[0m\u001b[0;34m)\u001b[0m\u001b[0;34m\u001b[0m\u001b[0;34m\u001b[0m\u001b[0m\n\u001b[1;32m   4187\u001b[0m \u001b[0;34m\u001b[0m\u001b[0m\n",
            "\u001b[0;32m/usr/local/lib/python3.8/dist-packages/pandas/core/indexes/base.py\u001b[0m in \u001b[0;36mdrop\u001b[0;34m(self, labels, errors)\u001b[0m\n\u001b[1;32m   6015\u001b[0m         \u001b[0;32mif\u001b[0m \u001b[0mmask\u001b[0m\u001b[0;34m.\u001b[0m\u001b[0many\u001b[0m\u001b[0;34m(\u001b[0m\u001b[0;34m)\u001b[0m\u001b[0;34m:\u001b[0m\u001b[0;34m\u001b[0m\u001b[0;34m\u001b[0m\u001b[0m\n\u001b[1;32m   6016\u001b[0m             \u001b[0;32mif\u001b[0m \u001b[0merrors\u001b[0m \u001b[0;34m!=\u001b[0m \u001b[0;34m\"ignore\"\u001b[0m\u001b[0;34m:\u001b[0m\u001b[0;34m\u001b[0m\u001b[0;34m\u001b[0m\u001b[0m\n\u001b[0;32m-> 6017\u001b[0;31m                 \u001b[0;32mraise\u001b[0m \u001b[0mKeyError\u001b[0m\u001b[0;34m(\u001b[0m\u001b[0;34mf\"{labels[mask]} not found in axis\"\u001b[0m\u001b[0;34m)\u001b[0m\u001b[0;34m\u001b[0m\u001b[0;34m\u001b[0m\u001b[0m\n\u001b[0m\u001b[1;32m   6018\u001b[0m             \u001b[0mindexer\u001b[0m \u001b[0;34m=\u001b[0m \u001b[0mindexer\u001b[0m\u001b[0;34m[\u001b[0m\u001b[0;34m~\u001b[0m\u001b[0mmask\u001b[0m\u001b[0;34m]\u001b[0m\u001b[0;34m\u001b[0m\u001b[0;34m\u001b[0m\u001b[0m\n\u001b[1;32m   6019\u001b[0m         \u001b[0;32mreturn\u001b[0m \u001b[0mself\u001b[0m\u001b[0;34m.\u001b[0m\u001b[0mdelete\u001b[0m\u001b[0;34m(\u001b[0m\u001b[0mindexer\u001b[0m\u001b[0;34m)\u001b[0m\u001b[0;34m\u001b[0m\u001b[0;34m\u001b[0m\u001b[0m\n",
            "\u001b[0;31mKeyError\u001b[0m: \"['image' 'sharpness' 'width'] not found in axis\""
          ]
        }
      ],
      "source": [
        "df = df.drop(['image','sharpness','width'],axis= 1)"
      ]
    },
    {
      "cell_type": "code",
      "source": [
        "df = df.drop(['height'],axis= 1)"
      ],
      "metadata": {
        "id": "PwKcQP3cCJnJ"
      },
      "execution_count": 307,
      "outputs": []
    },
    {
      "cell_type": "code",
      "execution_count": 308,
      "metadata": {
        "colab": {
          "base_uri": "https://localhost:8080/",
          "height": 206
        },
        "id": "yNiRmH8R49lg",
        "outputId": "260cfb11-fcac-40bd-b579-ec48e06c97de"
      },
      "outputs": [
        {
          "output_type": "execute_result",
          "data": {
            "text/plain": [
              "   type  brightness  contrast   blurrness     noise  text_ratio  artifacts\n",
              "0     0    0.716012  0.670523  100.000000  0.103363   10.282814   0.161135\n",
              "1     0    0.868586  0.811852  100.000000  1.000000    0.203851   0.086727\n",
              "2     0    0.972642  0.974531   11.019122  0.001829    0.071625   0.080253\n",
              "3     0    0.706174  0.671694  100.000000  0.955788    7.824965   0.137682\n",
              "4     0    0.869724  0.858001  100.000000  0.998939    0.098471   0.066694"
            ],
            "text/html": [
              "\n",
              "  <div id=\"df-fe902092-9b92-4308-a726-a944afb60088\">\n",
              "    <div class=\"colab-df-container\">\n",
              "      <div>\n",
              "<style scoped>\n",
              "    .dataframe tbody tr th:only-of-type {\n",
              "        vertical-align: middle;\n",
              "    }\n",
              "\n",
              "    .dataframe tbody tr th {\n",
              "        vertical-align: top;\n",
              "    }\n",
              "\n",
              "    .dataframe thead th {\n",
              "        text-align: right;\n",
              "    }\n",
              "</style>\n",
              "<table border=\"1\" class=\"dataframe\">\n",
              "  <thead>\n",
              "    <tr style=\"text-align: right;\">\n",
              "      <th></th>\n",
              "      <th>type</th>\n",
              "      <th>brightness</th>\n",
              "      <th>contrast</th>\n",
              "      <th>blurrness</th>\n",
              "      <th>noise</th>\n",
              "      <th>text_ratio</th>\n",
              "      <th>artifacts</th>\n",
              "    </tr>\n",
              "  </thead>\n",
              "  <tbody>\n",
              "    <tr>\n",
              "      <th>0</th>\n",
              "      <td>0</td>\n",
              "      <td>0.716012</td>\n",
              "      <td>0.670523</td>\n",
              "      <td>100.000000</td>\n",
              "      <td>0.103363</td>\n",
              "      <td>10.282814</td>\n",
              "      <td>0.161135</td>\n",
              "    </tr>\n",
              "    <tr>\n",
              "      <th>1</th>\n",
              "      <td>0</td>\n",
              "      <td>0.868586</td>\n",
              "      <td>0.811852</td>\n",
              "      <td>100.000000</td>\n",
              "      <td>1.000000</td>\n",
              "      <td>0.203851</td>\n",
              "      <td>0.086727</td>\n",
              "    </tr>\n",
              "    <tr>\n",
              "      <th>2</th>\n",
              "      <td>0</td>\n",
              "      <td>0.972642</td>\n",
              "      <td>0.974531</td>\n",
              "      <td>11.019122</td>\n",
              "      <td>0.001829</td>\n",
              "      <td>0.071625</td>\n",
              "      <td>0.080253</td>\n",
              "    </tr>\n",
              "    <tr>\n",
              "      <th>3</th>\n",
              "      <td>0</td>\n",
              "      <td>0.706174</td>\n",
              "      <td>0.671694</td>\n",
              "      <td>100.000000</td>\n",
              "      <td>0.955788</td>\n",
              "      <td>7.824965</td>\n",
              "      <td>0.137682</td>\n",
              "    </tr>\n",
              "    <tr>\n",
              "      <th>4</th>\n",
              "      <td>0</td>\n",
              "      <td>0.869724</td>\n",
              "      <td>0.858001</td>\n",
              "      <td>100.000000</td>\n",
              "      <td>0.998939</td>\n",
              "      <td>0.098471</td>\n",
              "      <td>0.066694</td>\n",
              "    </tr>\n",
              "  </tbody>\n",
              "</table>\n",
              "</div>\n",
              "      <button class=\"colab-df-convert\" onclick=\"convertToInteractive('df-fe902092-9b92-4308-a726-a944afb60088')\"\n",
              "              title=\"Convert this dataframe to an interactive table.\"\n",
              "              style=\"display:none;\">\n",
              "        \n",
              "  <svg xmlns=\"http://www.w3.org/2000/svg\" height=\"24px\"viewBox=\"0 0 24 24\"\n",
              "       width=\"24px\">\n",
              "    <path d=\"M0 0h24v24H0V0z\" fill=\"none\"/>\n",
              "    <path d=\"M18.56 5.44l.94 2.06.94-2.06 2.06-.94-2.06-.94-.94-2.06-.94 2.06-2.06.94zm-11 1L8.5 8.5l.94-2.06 2.06-.94-2.06-.94L8.5 2.5l-.94 2.06-2.06.94zm10 10l.94 2.06.94-2.06 2.06-.94-2.06-.94-.94-2.06-.94 2.06-2.06.94z\"/><path d=\"M17.41 7.96l-1.37-1.37c-.4-.4-.92-.59-1.43-.59-.52 0-1.04.2-1.43.59L10.3 9.45l-7.72 7.72c-.78.78-.78 2.05 0 2.83L4 21.41c.39.39.9.59 1.41.59.51 0 1.02-.2 1.41-.59l7.78-7.78 2.81-2.81c.8-.78.8-2.07 0-2.86zM5.41 20L4 18.59l7.72-7.72 1.47 1.35L5.41 20z\"/>\n",
              "  </svg>\n",
              "      </button>\n",
              "      \n",
              "  <style>\n",
              "    .colab-df-container {\n",
              "      display:flex;\n",
              "      flex-wrap:wrap;\n",
              "      gap: 12px;\n",
              "    }\n",
              "\n",
              "    .colab-df-convert {\n",
              "      background-color: #E8F0FE;\n",
              "      border: none;\n",
              "      border-radius: 50%;\n",
              "      cursor: pointer;\n",
              "      display: none;\n",
              "      fill: #1967D2;\n",
              "      height: 32px;\n",
              "      padding: 0 0 0 0;\n",
              "      width: 32px;\n",
              "    }\n",
              "\n",
              "    .colab-df-convert:hover {\n",
              "      background-color: #E2EBFA;\n",
              "      box-shadow: 0px 1px 2px rgba(60, 64, 67, 0.3), 0px 1px 3px 1px rgba(60, 64, 67, 0.15);\n",
              "      fill: #174EA6;\n",
              "    }\n",
              "\n",
              "    [theme=dark] .colab-df-convert {\n",
              "      background-color: #3B4455;\n",
              "      fill: #D2E3FC;\n",
              "    }\n",
              "\n",
              "    [theme=dark] .colab-df-convert:hover {\n",
              "      background-color: #434B5C;\n",
              "      box-shadow: 0px 1px 3px 1px rgba(0, 0, 0, 0.15);\n",
              "      filter: drop-shadow(0px 1px 2px rgba(0, 0, 0, 0.3));\n",
              "      fill: #FFFFFF;\n",
              "    }\n",
              "  </style>\n",
              "\n",
              "      <script>\n",
              "        const buttonEl =\n",
              "          document.querySelector('#df-fe902092-9b92-4308-a726-a944afb60088 button.colab-df-convert');\n",
              "        buttonEl.style.display =\n",
              "          google.colab.kernel.accessAllowed ? 'block' : 'none';\n",
              "\n",
              "        async function convertToInteractive(key) {\n",
              "          const element = document.querySelector('#df-fe902092-9b92-4308-a726-a944afb60088');\n",
              "          const dataTable =\n",
              "            await google.colab.kernel.invokeFunction('convertToInteractive',\n",
              "                                                     [key], {});\n",
              "          if (!dataTable) return;\n",
              "\n",
              "          const docLinkHtml = 'Like what you see? Visit the ' +\n",
              "            '<a target=\"_blank\" href=https://colab.research.google.com/notebooks/data_table.ipynb>data table notebook</a>'\n",
              "            + ' to learn more about interactive tables.';\n",
              "          element.innerHTML = '';\n",
              "          dataTable['output_type'] = 'display_data';\n",
              "          await google.colab.output.renderOutput(dataTable, element);\n",
              "          const docLink = document.createElement('div');\n",
              "          docLink.innerHTML = docLinkHtml;\n",
              "          element.appendChild(docLink);\n",
              "        }\n",
              "      </script>\n",
              "    </div>\n",
              "  </div>\n",
              "  "
            ]
          },
          "metadata": {},
          "execution_count": 308
        }
      ],
      "source": [
        "df.head()"
      ]
    },
    {
      "cell_type": "code",
      "execution_count": 309,
      "metadata": {
        "colab": {
          "base_uri": "https://localhost:8080/"
        },
        "id": "dR0YRjtJWwVe",
        "outputId": "bdd2ad39-6e3e-4171-8a45-49d2cb536bd2"
      },
      "outputs": [
        {
          "output_type": "execute_result",
          "data": {
            "text/plain": [
              "(189, 7)"
            ]
          },
          "metadata": {},
          "execution_count": 309
        }
      ],
      "source": [
        "df.shape  # 8 features not including brisque"
      ]
    },
    {
      "cell_type": "code",
      "source": [
        "df= df.fillna(0)"
      ],
      "metadata": {
        "id": "3MQn-YxYCfrv"
      },
      "execution_count": 321,
      "outputs": []
    },
    {
      "cell_type": "code",
      "execution_count": 310,
      "metadata": {
        "colab": {
          "base_uri": "https://localhost:8080/",
          "height": 899
        },
        "id": "lB2L96-d49ok",
        "outputId": "06ccdb81-072b-468d-a438-1be134dca3e4"
      },
      "outputs": [
        {
          "output_type": "execute_result",
          "data": {
            "text/plain": [
              "<matplotlib.axes._subplots.AxesSubplot at 0x7fd56fb8c220>"
            ]
          },
          "metadata": {},
          "execution_count": 310
        },
        {
          "output_type": "display_data",
          "data": {
            "text/plain": [
              "<Figure size 1800x1440 with 1 Axes>"
            ],
            "image/png": "[encoded data removed]"
          },
          "metadata": {
            "needs_background": "light"
          }
        }
      ],
      "source": [
        "df.boxplot(figsize=(25,20))"
      ]
    },
    {
      "cell_type": "code",
      "execution_count": 322,
      "metadata": {
        "id": "r6p5gzjx49rP"
      },
      "outputs": [],
      "source": [
        "x= df.drop(['type'],axis=1)\n",
        "y= df['type']"
      ]
    },
    {
      "cell_type": "code",
      "execution_count": 323,
      "metadata": {
        "colab": {
          "base_uri": "https://localhost:8080/"
        },
        "id": "3l9743Ke49uX",
        "outputId": "991f670d-e228-42dc-af24-f0786db67357"
      },
      "outputs": [
        {
          "output_type": "execute_result",
          "data": {
            "text/plain": [
              "0      0\n",
              "1      0\n",
              "2      0\n",
              "3      0\n",
              "4      0\n",
              "      ..\n",
              "184    3\n",
              "185    3\n",
              "186    3\n",
              "187    3\n",
              "188    3\n",
              "Name: type, Length: 189, dtype: int64"
            ]
          },
          "metadata": {},
          "execution_count": 323
        }
      ],
      "source": [
        "y"
      ]
    },
    {
      "cell_type": "code",
      "execution_count": 324,
      "metadata": {
        "colab": {
          "base_uri": "https://localhost:8080/"
        },
        "id": "cVnXB8_nXTOT",
        "outputId": "bbf8a034-3e17-450f-f500-efeed216aa48"
      },
      "outputs": [
        {
          "output_type": "execute_result",
          "data": {
            "text/plain": [
              "array([0, 1, 2, 3])"
            ]
          },
          "metadata": {},
          "execution_count": 324
        }
      ],
      "source": [
        "y.unique()"
      ]
    },
    {
      "cell_type": "code",
      "execution_count": 314,
      "metadata": {
        "colab": {
          "base_uri": "https://localhost:8080/"
        },
        "id": "KaUeVDBylNsl",
        "outputId": "9e51b4f6-bdca-447b-e519-ed0dfcbff5c1"
      },
      "outputs": [
        {
          "output_type": "execute_result",
          "data": {
            "text/plain": [
              "0      0\n",
              "1      0\n",
              "2      0\n",
              "3      0\n",
              "4      0\n",
              "      ..\n",
              "184    3\n",
              "185    3\n",
              "186    3\n",
              "187    3\n",
              "188    3\n",
              "Name: type, Length: 189, dtype: int64"
            ]
          },
          "metadata": {},
          "execution_count": 314
        }
      ],
      "source": [
        "df['type']"
      ]
    },
    {
      "cell_type": "code",
      "execution_count": null,
      "metadata": {
        "colab": {
          "base_uri": "https://localhost:8080/"
        },
        "id": "uXM12SymkHC6",
        "outputId": "692899a7-3bf6-425a-9b08-93bedd2ce1e2"
      },
      "outputs": [
        {
          "data": {
            "text/plain": [
              "array([0.  , 0.  , 0.  , 0.  , 0.  , 0.  , 0.  , 0.  , 0.  , 0.  , 0.  ,\n",
              "       0.  , 0.  , 0.  , 0.  , 0.  , 0.  , 0.  , 0.  , 0.  , 0.  , 0.25,\n",
              "       0.25, 0.25, 0.25, 0.25, 0.25, 0.25, 0.25, 0.25, 0.25, 0.75, 0.75,\n",
              "       0.75, 0.75, 0.75, 0.75, 0.75, 0.75, 0.75, 0.75, 0.75, 0.75, 0.75,\n",
              "       1.  , 1.  , 1.  , 1.  , 1.  , 1.  , 1.  , 1.  , 1.  , 1.  , 1.  ,\n",
              "       1.  , 1.  , 1.  , 1.  , 1.  , 1.  , 1.  , 1.  , 1.  , 1.  , 1.  ,\n",
              "       1.  , 1.  , 1.  ])"
            ]
          },
          "execution_count": 25,
          "metadata": {},
          "output_type": "execute_result"
        }
      ],
      "source": [
        "# df['type_sc'] = df['type'].replace([0,1,2,3], [0,0.25,0.75,1.0])\n",
        "\n",
        "\n",
        "# df['type_sc'].values\n"
      ]
    },
    {
      "cell_type": "code",
      "execution_count": null,
      "metadata": {
        "id": "LFWCEafklmi2"
      },
      "outputs": [],
      "source": [
        "# y= df['type_sc']"
      ]
    },
    {
      "cell_type": "code",
      "execution_count": null,
      "metadata": {
        "id": "JhQQgYS0lB5c"
      },
      "outputs": [],
      "source": [
        "# df=df.drop(['type_scl'],axis=1)"
      ]
    },
    {
      "cell_type": "code",
      "execution_count": 325,
      "metadata": {
        "colab": {
          "base_uri": "https://localhost:8080/"
        },
        "id": "D0WoHrPJlu3o",
        "outputId": "f67d6a1f-f7d5-4807-c43c-d485540ec695"
      },
      "outputs": [
        {
          "output_type": "execute_result",
          "data": {
            "text/plain": [
              "array([0, 1, 2, 3])"
            ]
          },
          "metadata": {},
          "execution_count": 325
        }
      ],
      "source": [
        "y.unique()"
      ]
    },
    {
      "cell_type": "code",
      "execution_count": 326,
      "metadata": {
        "colab": {
          "base_uri": "https://localhost:8080/"
        },
        "id": "swe7mz1P49xY",
        "outputId": "a7c0e8f0-3d04-4c81-af59-cc305ce6ba88"
      },
      "outputs": [
        {
          "output_type": "execute_result",
          "data": {
            "text/plain": [
              "Index(['brightness', 'contrast', 'blurrness', 'noise', 'text_ratio',\n",
              "       'artifacts'],\n",
              "      dtype='object')"
            ]
          },
          "metadata": {},
          "execution_count": 326
        }
      ],
      "source": [
        "x.columns"
      ]
    },
    {
      "cell_type": "code",
      "execution_count": 327,
      "metadata": {
        "id": "yDLnR-MW9dsi"
      },
      "outputs": [],
      "source": [
        "feature_name=['image', 'brightness', 'contrast', 'blurrness', 'noise', 'text_ratio',\n",
        "       'width', 'height', 'artifacts']"
      ]
    },
    {
      "cell_type": "code",
      "execution_count": 328,
      "metadata": {
        "id": "cTvW4xiE9dP3"
      },
      "outputs": [],
      "source": [
        "target_name=['type']"
      ]
    },
    {
      "cell_type": "code",
      "execution_count": 329,
      "metadata": {
        "id": "nhk7H_IrwzIp"
      },
      "outputs": [],
      "source": [
        "x=x.drop(['contrast'],axis=1)"
      ]
    },
    {
      "cell_type": "code",
      "execution_count": 330,
      "metadata": {
        "id": "tfep6IjWo60h"
      },
      "outputs": [],
      "source": [
        "from sklearn.model_selection import train_test_split\n",
        "X_train,X_test,y_train,y_test = train_test_split(x, y, stratify=y, test_size = 0.3)"
      ]
    },
    {
      "cell_type": "code",
      "source": [
        "df=df.fillna(0)"
      ],
      "metadata": {
        "id": "ia3Ve_GEBnwg"
      },
      "execution_count": 319,
      "outputs": []
    },
    {
      "cell_type": "code",
      "execution_count": 331,
      "metadata": {
        "id": "nP7c8XrfpJMs"
      },
      "outputs": [],
      "source": [
        "def draw_confusion_matrix(cm):\n",
        "    plt.figure(figsize=(12,8))\n",
        "    sns.heatmap(cm,annot=True,fmt=\"d\", center=0, cmap='autumn') \n",
        "    plt.title(\"Confusion Matrix\")\n",
        "    plt.ylabel('True label')\n",
        "    plt.xlabel('Predicted label')\n",
        "    plt.show()"
      ]
    },
    {
      "cell_type": "code",
      "execution_count": 332,
      "metadata": {
        "colab": {
          "base_uri": "https://localhost:8080/"
        },
        "id": "cwu4A-iRpJJ_",
        "outputId": "1c6d9f1e-9371-402f-d814-d2afb3a3da1d"
      },
      "outputs": [
        {
          "output_type": "stream",
          "name": "stdout",
          "text": [
            "0.5\n",
            "0.47368421052631576\n"
          ]
        }
      ],
      "source": [
        "from sklearn.linear_model import LogisticRegression\n",
        "from sklearn.metrics import accuracy_score, confusion_matrix\n",
        "\n",
        "logreg = LogisticRegression()\n",
        "logreg.fit(X_train, y_train)\n",
        "\n",
        "y_predict_train_logreg = logreg.predict(X_train)\n",
        "y_predict_test_logreg = logreg.predict(X_test)\n",
        "\n",
        "train_accuracy_score_logreg = accuracy_score(y_train, y_predict_train_logreg)\n",
        "test_accuracy_score_logreg = accuracy_score(y_test, y_predict_test_logreg)\n",
        "\n",
        "print(train_accuracy_score_logreg)\n",
        "print(test_accuracy_score_logreg)"
      ]
    },
    {
      "cell_type": "code",
      "execution_count": 333,
      "metadata": {
        "colab": {
          "base_uri": "https://localhost:8080/"
        },
        "id": "uCMQDjljxbUF",
        "outputId": "80977f85-ff12-4007-a2fe-fabcb11ea856"
      },
      "outputs": [
        {
          "output_type": "stream",
          "name": "stdout",
          "text": [
            "0.5303030303030303\n",
            "0.47368421052631576\n"
          ]
        }
      ],
      "source": [
        "from sklearn.linear_model import LogisticRegression\n",
        "from sklearn.metrics import accuracy_score, confusion_matrix\n",
        "from sklearn.model_selection import train_test_split\n",
        "X_train,X_test,y_train,y_test = train_test_split(x, y, stratify=y, test_size = 0.3)\n",
        "logreg = LogisticRegression()\n",
        "logreg.fit(X_train, y_train)\n",
        "\n",
        "y_predict_train_logreg = logreg.predict(X_train)\n",
        "y_predict_test_logreg = logreg.predict(X_test)\n",
        "\n",
        "train_accuracy_score_logreg = accuracy_score(y_train, y_predict_train_logreg)\n",
        "test_accuracy_score_logreg = accuracy_score(y_test, y_predict_test_logreg)\n",
        "\n",
        "print(train_accuracy_score_logreg)\n",
        "print(test_accuracy_score_logreg)"
      ]
    },
    {
      "cell_type": "code",
      "execution_count": 334,
      "metadata": {
        "colab": {
          "base_uri": "https://localhost:8080/"
        },
        "id": "IT8MHQaB64Iq",
        "outputId": "d146df8e-fde6-476f-9fa5-0e8b546cb924"
      },
      "outputs": [
        {
          "output_type": "stream",
          "name": "stdout",
          "text": [
            "0.9696969696969697\n",
            "0.47368421052631576\n"
          ]
        }
      ],
      "source": [
        "import xgboost as xgb\n",
        "from sklearn.metrics import accuracy_score\n",
        "\n",
        "# Init classifier\n",
        "xgb_cl = xgb.XGBClassifier()\n",
        "\n",
        "# Fit\n",
        "xgb_cl.fit(X_train, y_train)\n",
        "\n",
        "# Predict\n",
        "# preds = xgb_cl.predict(X_test)\n",
        "y_predict_train_xgb_cl = xgb_cl.predict(X_train)\n",
        "y_predict_test_xgb_cl = xgb_cl.predict(X_test)\n",
        "train_accuracy_score_xgb_cl = accuracy_score(y_train, y_predict_train_xgb_cl)\n",
        "test_accuracy_score_xgb_cl= accuracy_score(y_test, y_predict_test_xgb_cl)\n",
        "\n",
        "print(train_accuracy_score_xgb_cl)\n",
        "print(test_accuracy_score_xgb_cl)"
      ]
    },
    {
      "cell_type": "code",
      "execution_count": 335,
      "metadata": {
        "id": "gcAgsPlj7aFu"
      },
      "outputs": [],
      "source": [
        "param_grid = {\n",
        "    \"max_depth\": [2,3, 4, 5,6, 7],\n",
        "    \"learning_rate\": [0.1, 0.01, 0.05],\n",
        "    \"gamma\": [0, 0.25, 1],\n",
        "    \"reg_lambda\": [0, 1, 10],\n",
        "    \"scale_pos_weight\": [1, 3, 5],\n",
        "    \"subsample\": [0.8],\n",
        "    \"colsample_bytree\": [0.5],\n",
        "}"
      ]
    },
    {
      "cell_type": "code",
      "execution_count": null,
      "metadata": {
        "id": "uDTBd1D06kEH"
      },
      "outputs": [],
      "source": [
        "from sklearn.model_selection import GridSearchCV\n",
        "\n",
        "# Init classifier\n",
        "xgb_cl = xgb.XGBClassifier(objective=\"binary:logistic\")\n",
        "\n",
        "# Init Grid Search\n",
        "grid_cv = GridSearchCV(xgb_cl, param_grid, n_jobs=-1, cv=3, scoring=\"roc_auc\")\n",
        "\n",
        "# Fit\n",
        "grid_cv.fit(x, y)"
      ]
    },
    {
      "cell_type": "code",
      "execution_count": null,
      "metadata": {
        "id": "CRdiLJoR7r1a"
      },
      "outputs": [],
      "source": [
        "print(grid_cv.best_score_)\n",
        "print(grid_cv.best_params_)"
      ]
    },
    {
      "cell_type": "code",
      "execution_count": null,
      "metadata": {
        "colab": {
          "base_uri": "https://localhost:8080/"
        },
        "id": "KQ1RcSo07wDS",
        "outputId": "cda88595-f69d-42c6-c19f-7cc832fc921a"
      },
      "outputs": [
        {
          "name": "stdout",
          "output_type": "stream",
          "text": [
            "1.0\n",
            "0.5238095238095238\n"
          ]
        }
      ],
      "source": [
        "import xgboost as xgb\n",
        "from sklearn.metrics import accuracy_score\n",
        "\n",
        "# Init classifier\n",
        "xgb_cl = xgb.XGBClassifier(colsample_bytree= 0.5, gamma= 0, learning_rate= 0.1, max_depth= 2, reg_lambda= 0, scale_pos_weight= 1, subsample= 0.8)\n",
        "\n",
        "# Fit\n",
        "xgb_cl.fit(X_train, y_train)\n",
        "\n",
        "# Predict\n",
        "# preds = xgb_cl.predict(X_test)\n",
        "y_predict_train_xgb_cl = xgb_cl.predict(X_train)\n",
        "y_predict_test_xgb_cl = xgb_cl.predict(X_test)\n",
        "train_accuracy_score_xgb_cl = accuracy_score(y_train, y_predict_train_xgb_cl)\n",
        "test_accuracy_score_xgb_cl= accuracy_score(y_test, y_predict_test_xgb_cl)\n",
        "\n",
        "print(train_accuracy_score_xgb_cl)\n",
        "print(test_accuracy_score_xgb_cl)"
      ]
    },
    {
      "cell_type": "code",
      "execution_count": 337,
      "metadata": {
        "colab": {
          "base_uri": "https://localhost:8080/"
        },
        "id": "USKcUsk5xgpb",
        "outputId": "b5f09d09-9802-4184-a14c-0e3658238dd8"
      },
      "outputs": [
        {
          "output_type": "stream",
          "name": "stdout",
          "text": [
            "0.4772727272727273\n",
            "0.43859649122807015\n"
          ]
        }
      ],
      "source": [
        "from sklearn.linear_model import LogisticRegression\n",
        "from sklearn.metrics import accuracy_score, confusion_matrix\n",
        "from sklearn.model_selection import train_test_split\n",
        "X_train,X_test,y_train,y_test = train_test_split(x, y, stratify=y, test_size = 0.3)\n",
        "logreg = LogisticRegression()\n",
        "logreg.fit(X_train, y_train)\n",
        "\n",
        "y_predict_train_logreg = logreg.predict(X_train)\n",
        "y_predict_test_logreg = logreg.predict(X_test)\n",
        "\n",
        "train_accuracy_score_logreg = accuracy_score(y_train, y_predict_train_logreg)\n",
        "test_accuracy_score_logreg = accuracy_score(y_test, y_predict_test_logreg)\n",
        "\n",
        "print(train_accuracy_score_logreg)\n",
        "print(test_accuracy_score_logreg)"
      ]
    },
    {
      "cell_type": "code",
      "execution_count": null,
      "metadata": {
        "colab": {
          "base_uri": "https://localhost:8080/"
        },
        "id": "c-zdmG7I9PxZ",
        "outputId": "d4780f55-86fe-4248-f59d-0802733bc777"
      },
      "outputs": [
        {
          "data": {
            "text/plain": [
              "0     0\n",
              "1     0\n",
              "2     0\n",
              "3     0\n",
              "4     0\n",
              "     ..\n",
              "64    3\n",
              "65    3\n",
              "66    3\n",
              "67    3\n",
              "68    3\n",
              "Name: type, Length: 69, dtype: int64"
            ]
          },
          "execution_count": 215,
          "metadata": {},
          "output_type": "execute_result"
        }
      ],
      "source": [
        "y"
      ]
    },
    {
      "cell_type": "code",
      "execution_count": 338,
      "metadata": {
        "id": "QoO6eKEg9otG"
      },
      "outputs": [],
      "source": [
        "from sklearn.model_selection import train_test_split\n",
        "X_train,X_test,y_train,y_test = train_test_split(x, y, stratify=y, test_size = 0.3)"
      ]
    },
    {
      "cell_type": "code",
      "execution_count": null,
      "metadata": {
        "colab": {
          "base_uri": "https://localhost:8080/"
        },
        "id": "T0PrMgJ79uVL",
        "outputId": "2a9f9808-1be8-425f-bcfe-da2a3d9e5506"
      },
      "outputs": [
        {
          "data": {
            "text/plain": [
              "(48,)"
            ]
          },
          "execution_count": 218,
          "metadata": {},
          "output_type": "execute_result"
        }
      ],
      "source": [
        "# _train.shape"
      ]
    },
    {
      "cell_type": "code",
      "execution_count": 339,
      "metadata": {
        "id": "lXt_sE5G-9Gd"
      },
      "outputs": [],
      "source": [
        "x= df.drop(['contrast'],axis=1)"
      ]
    },
    {
      "cell_type": "code",
      "execution_count": null,
      "metadata": {
        "colab": {
          "base_uri": "https://localhost:8080/",
          "height": 423
        },
        "id": "dVUNwuJ6_USk",
        "outputId": "43f94392-d6f7-4d04-b979-79e07d1deb48"
      },
      "outputs": [
        {
          "data": {
            "text/html": [
              "\n",
              "  <div id=\"df-99e6a268-f8f7-45a9-adef-2db58549b21b\">\n",
              "    <div class=\"colab-df-container\">\n",
              "      <div>\n",
              "<style scoped>\n",
              "    .dataframe tbody tr th:only-of-type {\n",
              "        vertical-align: middle;\n",
              "    }\n",
              "\n",
              "    .dataframe tbody tr th {\n",
              "        vertical-align: top;\n",
              "    }\n",
              "\n",
              "    .dataframe thead th {\n",
              "        text-align: right;\n",
              "    }\n",
              "</style>\n",
              "<table border=\"1\" class=\"dataframe\">\n",
              "  <thead>\n",
              "    <tr style=\"text-align: right;\">\n",
              "      <th></th>\n",
              "      <th>brightness</th>\n",
              "      <th>blurrness</th>\n",
              "      <th>noise</th>\n",
              "      <th>text_ratio</th>\n",
              "      <th>width</th>\n",
              "      <th>height</th>\n",
              "      <th>artifacts</th>\n",
              "    </tr>\n",
              "  </thead>\n",
              "  <tbody>\n",
              "    <tr>\n",
              "      <th>0</th>\n",
              "      <td>0.972673</td>\n",
              "      <td>10.210205</td>\n",
              "      <td>0.001797</td>\n",
              "      <td>0.071625</td>\n",
              "      <td>1712</td>\n",
              "      <td>2378</td>\n",
              "      <td>0.080268</td>\n",
              "    </tr>\n",
              "    <tr>\n",
              "      <th>1</th>\n",
              "      <td>0.899201</td>\n",
              "      <td>3165.596177</td>\n",
              "      <td>0.000000</td>\n",
              "      <td>0.231318</td>\n",
              "      <td>166</td>\n",
              "      <td>308</td>\n",
              "      <td>0.171118</td>\n",
              "    </tr>\n",
              "    <tr>\n",
              "      <th>2</th>\n",
              "      <td>0.944522</td>\n",
              "      <td>2476.508698</td>\n",
              "      <td>0.044659</td>\n",
              "      <td>0.098088</td>\n",
              "      <td>439</td>\n",
              "      <td>560</td>\n",
              "      <td>0.068768</td>\n",
              "    </tr>\n",
              "    <tr>\n",
              "      <th>3</th>\n",
              "      <td>0.454826</td>\n",
              "      <td>439.636052</td>\n",
              "      <td>0.890055</td>\n",
              "      <td>29.566625</td>\n",
              "      <td>648</td>\n",
              "      <td>491</td>\n",
              "      <td>0.160270</td>\n",
              "    </tr>\n",
              "    <tr>\n",
              "      <th>4</th>\n",
              "      <td>0.420416</td>\n",
              "      <td>4705.595962</td>\n",
              "      <td>0.000000</td>\n",
              "      <td>3.714097</td>\n",
              "      <td>1623</td>\n",
              "      <td>2321</td>\n",
              "      <td>0.784324</td>\n",
              "    </tr>\n",
              "    <tr>\n",
              "      <th>...</th>\n",
              "      <td>...</td>\n",
              "      <td>...</td>\n",
              "      <td>...</td>\n",
              "      <td>...</td>\n",
              "      <td>...</td>\n",
              "      <td>...</td>\n",
              "      <td>...</td>\n",
              "    </tr>\n",
              "    <tr>\n",
              "      <th>64</th>\n",
              "      <td>0.924605</td>\n",
              "      <td>1634.261817</td>\n",
              "      <td>0.096586</td>\n",
              "      <td>0.141051</td>\n",
              "      <td>909</td>\n",
              "      <td>1025</td>\n",
              "      <td>0.113996</td>\n",
              "    </tr>\n",
              "    <tr>\n",
              "      <th>65</th>\n",
              "      <td>0.960897</td>\n",
              "      <td>7543.602275</td>\n",
              "      <td>0.013545</td>\n",
              "      <td>0.046779</td>\n",
              "      <td>998</td>\n",
              "      <td>1438</td>\n",
              "      <td>0.049678</td>\n",
              "    </tr>\n",
              "    <tr>\n",
              "      <th>66</th>\n",
              "      <td>0.941633</td>\n",
              "      <td>3776.049877</td>\n",
              "      <td>0.043335</td>\n",
              "      <td>0.097820</td>\n",
              "      <td>730</td>\n",
              "      <td>826</td>\n",
              "      <td>0.081230</td>\n",
              "    </tr>\n",
              "    <tr>\n",
              "      <th>67</th>\n",
              "      <td>0.732397</td>\n",
              "      <td>19925.305865</td>\n",
              "      <td>0.267669</td>\n",
              "      <td>0.504386</td>\n",
              "      <td>721</td>\n",
              "      <td>558</td>\n",
              "      <td>0.340256</td>\n",
              "    </tr>\n",
              "    <tr>\n",
              "      <th>68</th>\n",
              "      <td>0.945125</td>\n",
              "      <td>6889.850833</td>\n",
              "      <td>0.027314</td>\n",
              "      <td>0.111569</td>\n",
              "      <td>582</td>\n",
              "      <td>541</td>\n",
              "      <td>0.106341</td>\n",
              "    </tr>\n",
              "  </tbody>\n",
              "</table>\n",
              "<p>69 rows × 7 columns</p>\n",
              "</div>\n",
              "      <button class=\"colab-df-convert\" onclick=\"convertToInteractive('df-99e6a268-f8f7-45a9-adef-2db58549b21b')\"\n",
              "              title=\"Convert this dataframe to an interactive table.\"\n",
              "              style=\"display:none;\">\n",
              "        \n",
              "  <svg xmlns=\"http://www.w3.org/2000/svg\" height=\"24px\"viewBox=\"0 0 24 24\"\n",
              "       width=\"24px\">\n",
              "    <path d=\"M0 0h24v24H0V0z\" fill=\"none\"/>\n",
              "    <path d=\"M18.56 5.44l.94 2.06.94-2.06 2.06-.94-2.06-.94-.94-2.06-.94 2.06-2.06.94zm-11 1L8.5 8.5l.94-2.06 2.06-.94-2.06-.94L8.5 2.5l-.94 2.06-2.06.94zm10 10l.94 2.06.94-2.06 2.06-.94-2.06-.94-.94-2.06-.94 2.06-2.06.94z\"/><path d=\"M17.41 7.96l-1.37-1.37c-.4-.4-.92-.59-1.43-.59-.52 0-1.04.2-1.43.59L10.3 9.45l-7.72 7.72c-.78.78-.78 2.05 0 2.83L4 21.41c.39.39.9.59 1.41.59.51 0 1.02-.2 1.41-.59l7.78-7.78 2.81-2.81c.8-.78.8-2.07 0-2.86zM5.41 20L4 18.59l7.72-7.72 1.47 1.35L5.41 20z\"/>\n",
              "  </svg>\n",
              "      </button>\n",
              "      \n",
              "  <style>\n",
              "    .colab-df-container {\n",
              "      display:flex;\n",
              "      flex-wrap:wrap;\n",
              "      gap: 12px;\n",
              "    }\n",
              "\n",
              "    .colab-df-convert {\n",
              "      background-color: #E8F0FE;\n",
              "      border: none;\n",
              "      border-radius: 50%;\n",
              "      cursor: pointer;\n",
              "      display: none;\n",
              "      fill: #1967D2;\n",
              "      height: 32px;\n",
              "      padding: 0 0 0 0;\n",
              "      width: 32px;\n",
              "    }\n",
              "\n",
              "    .colab-df-convert:hover {\n",
              "      background-color: #E2EBFA;\n",
              "      box-shadow: 0px 1px 2px rgba(60, 64, 67, 0.3), 0px 1px 3px 1px rgba(60, 64, 67, 0.15);\n",
              "      fill: #174EA6;\n",
              "    }\n",
              "\n",
              "    [theme=dark] .colab-df-convert {\n",
              "      background-color: #3B4455;\n",
              "      fill: #D2E3FC;\n",
              "    }\n",
              "\n",
              "    [theme=dark] .colab-df-convert:hover {\n",
              "      background-color: #434B5C;\n",
              "      box-shadow: 0px 1px 3px 1px rgba(0, 0, 0, 0.15);\n",
              "      filter: drop-shadow(0px 1px 2px rgba(0, 0, 0, 0.3));\n",
              "      fill: #FFFFFF;\n",
              "    }\n",
              "  </style>\n",
              "\n",
              "      <script>\n",
              "        const buttonEl =\n",
              "          document.querySelector('#df-99e6a268-f8f7-45a9-adef-2db58549b21b button.colab-df-convert');\n",
              "        buttonEl.style.display =\n",
              "          google.colab.kernel.accessAllowed ? 'block' : 'none';\n",
              "\n",
              "        async function convertToInteractive(key) {\n",
              "          const element = document.querySelector('#df-99e6a268-f8f7-45a9-adef-2db58549b21b');\n",
              "          const dataTable =\n",
              "            await google.colab.kernel.invokeFunction('convertToInteractive',\n",
              "                                                     [key], {});\n",
              "          if (!dataTable) return;\n",
              "\n",
              "          const docLinkHtml = 'Like what you see? Visit the ' +\n",
              "            '<a target=\"_blank\" href=https://colab.research.google.com/notebooks/data_table.ipynb>data table notebook</a>'\n",
              "            + ' to learn more about interactive tables.';\n",
              "          element.innerHTML = '';\n",
              "          dataTable['output_type'] = 'display_data';\n",
              "          await google.colab.output.renderOutput(dataTable, element);\n",
              "          const docLink = document.createElement('div');\n",
              "          docLink.innerHTML = docLinkHtml;\n",
              "          element.appendChild(docLink);\n",
              "        }\n",
              "      </script>\n",
              "    </div>\n",
              "  </div>\n",
              "  "
            ],
            "text/plain": [
              "    brightness     blurrness     noise  text_ratio  width  height  artifacts\n",
              "0     0.972673     10.210205  0.001797    0.071625   1712    2378   0.080268\n",
              "1     0.899201   3165.596177  0.000000    0.231318    166     308   0.171118\n",
              "2     0.944522   2476.508698  0.044659    0.098088    439     560   0.068768\n",
              "3     0.454826    439.636052  0.890055   29.566625    648     491   0.160270\n",
              "4     0.420416   4705.595962  0.000000    3.714097   1623    2321   0.784324\n",
              "..         ...           ...       ...         ...    ...     ...        ...\n",
              "64    0.924605   1634.261817  0.096586    0.141051    909    1025   0.113996\n",
              "65    0.960897   7543.602275  0.013545    0.046779    998    1438   0.049678\n",
              "66    0.941633   3776.049877  0.043335    0.097820    730     826   0.081230\n",
              "67    0.732397  19925.305865  0.267669    0.504386    721     558   0.340256\n",
              "68    0.945125   6889.850833  0.027314    0.111569    582     541   0.106341\n",
              "\n",
              "[69 rows x 7 columns]"
            ]
          },
          "execution_count": 270,
          "metadata": {},
          "output_type": "execute_result"
        }
      ],
      "source": [
        "x"
      ]
    },
    {
      "cell_type": "code",
      "execution_count": 340,
      "metadata": {
        "colab": {
          "base_uri": "https://localhost:8080/"
        },
        "id": "FPo5XvDJ9PuY",
        "outputId": "7f8df151-93f3-4137-8727-373dac5abb48"
      },
      "outputs": [
        {
          "output_type": "stream",
          "name": "stdout",
          "text": [
            "0.9696969696969697\n",
            "0.9473684210526315\n"
          ]
        }
      ],
      "source": [
        "from sklearn.multiclass import OneVsRestClassifier\n",
        "from sklearn.model_selection import train_test_split\n",
        "X_train,X_test,y_train,y_test = train_test_split(x, y, stratify=y, test_size = 0.3)\n",
        "# define dataset\n",
        "# X, y = make_classification(n_samples=1000, n_features=10, n_informative=5, n_redundant=5, n_classes=3, random_state=1)\n",
        "# define model\n",
        "model = LogisticRegression()\n",
        "# define the ovr strategy\n",
        "ovr = OneVsRestClassifier(model)\n",
        "# fit model\n",
        "ovr.fit(X_train, y_train)\n",
        "# make predictions\n",
        "yhat = ovr.predict(X_test)\n",
        "\n",
        "\n",
        "y_predict_train = ovr.predict(X_train)\n",
        "y_predict_test = ovr.predict(X_test)\n",
        "\n",
        "train_accuracy_score = accuracy_score(y_train, y_predict_train)\n",
        "test_accuracy_score = accuracy_score(y_test, y_predict_test)\n",
        "\n",
        "print(train_accuracy_score)\n",
        "print(test_accuracy_score)"
      ]
    },
    {
      "cell_type": "code",
      "source": [
        "import pickle\n",
        "output = open('pickledmodel1.pkl', 'wb')\n",
        "pickle.dump(ovr,output)\n",
        "from google.colab import files\n",
        "files.download('pickledmodel1.pkl')"
      ],
      "metadata": {
        "colab": {
          "base_uri": "https://localhost:8080/",
          "height": 17
        },
        "id": "jjG1tO_RFllJ",
        "outputId": "97e43525-d2f4-4424-977f-9aa47fdf2be3"
      },
      "execution_count": 341,
      "outputs": [
        {
          "output_type": "display_data",
          "data": {
            "text/plain": [
              "<IPython.core.display.Javascript object>"
            ],
            "application/javascript": [
              "\n",
              "    async function download(id, filename, size) {\n",
              "      if (!google.colab.kernel.accessAllowed) {\n",
              "        return;\n",
              "      }\n",
              "      const div = document.createElement('div');\n",
              "      const label = document.createElement('label');\n",
              "      label.textContent = `Downloading \"${filename}\": `;\n",
              "      div.appendChild(label);\n",
              "      const progress = document.createElement('progress');\n",
              "      progress.max = size;\n",
              "      div.appendChild(progress);\n",
              "      document.body.appendChild(div);\n",
              "\n",
              "      const buffers = [];\n",
              "      let downloaded = 0;\n",
              "\n",
              "      const channel = await google.colab.kernel.comms.open(id);\n",
              "      // Send a message to notify the kernel that we're ready.\n",
              "      channel.send({})\n",
              "\n",
              "      for await (const message of channel.messages) {\n",
              "        // Send a message to notify the kernel that we're ready.\n",
              "        channel.send({})\n",
              "        if (message.buffers) {\n",
              "          for (const buffer of message.buffers) {\n",
              "            buffers.push(buffer);\n",
              "            downloaded += buffer.byteLength;\n",
              "            progress.value = downloaded;\n",
              "          }\n",
              "        }\n",
              "      }\n",
              "      const blob = new Blob(buffers, {type: 'application/binary'});\n",
              "      const a = document.createElement('a');\n",
              "      a.href = window.URL.createObjectURL(blob);\n",
              "      a.download = filename;\n",
              "      div.appendChild(a);\n",
              "      a.click();\n",
              "      div.remove();\n",
              "    }\n",
              "  "
            ]
          },
          "metadata": {}
        },
        {
          "output_type": "display_data",
          "data": {
            "text/plain": [
              "<IPython.core.display.Javascript object>"
            ],
            "application/javascript": [
              "download(\"download_567fe36c-f83f-427c-85af-a58285e48b62\", \"pickledmodel1.pkl\", 0)"
            ]
          },
          "metadata": {}
        }
      ]
    },
    {
      "cell_type": "code",
      "execution_count": 356,
      "metadata": {
        "id": "_F-WVPS39Pq_",
        "colab": {
          "base_uri": "https://localhost:8080/"
        },
        "outputId": "a9d00946-4981-4399-fa68-9b8d75c0a8cb"
      },
      "outputs": [
        {
          "output_type": "stream",
          "name": "stdout",
          "text": [
            "0.9772727272727273\n",
            "0.9824561403508771\n"
          ]
        }
      ],
      "source": [
        "from sklearn.multiclass import OneVsRestClassifier\n",
        "from sklearn.model_selection import train_test_split\n",
        "X_train,X_test,y_train,y_test = train_test_split(x, y, stratify=y, test_size = 0.3)\n",
        "# define dataset\n",
        "# X, y = make_classification(n_samples=1000, n_features=10, n_informative=5, n_redundant=5, n_classes=3, random_state=1)\n",
        "# define model\n",
        "model = LogisticRegression()\n",
        "# define the ovr strategy\n",
        "ovr = OneVsRestClassifier(model)\n",
        "# fit model\n",
        "ovr.fit(X_train, y_train)\n",
        "# make predictions\n",
        "yhat = ovr.predict(X_test)\n",
        "\n",
        "\n",
        "y_predict_train = ovr.predict(X_train)\n",
        "y_predict_test = ovr.predict(X_test)\n",
        "\n",
        "train_accuracy_score = accuracy_score(y_train, y_predict_train)\n",
        "test_accuracy_score = accuracy_score(y_test, y_predict_test)\n",
        "\n",
        "print(train_accuracy_score)\n",
        "print(test_accuracy_score)"
      ]
    },
    {
      "cell_type": "code",
      "execution_count": null,
      "metadata": {
        "id": "xzrTN8wy9Pnn"
      },
      "outputs": [],
      "source": []
    },
    {
      "cell_type": "code",
      "execution_count": null,
      "metadata": {
        "id": "aKkCjXxL9Pkg"
      },
      "outputs": [],
      "source": []
    },
    {
      "cell_type": "code",
      "execution_count": null,
      "metadata": {
        "colab": {
          "base_uri": "https://localhost:8080/",
          "height": 513
        },
        "id": "kk2qBhpUpJHQ",
        "outputId": "7938596b-0b04-4417-d261-df881c3713b1"
      },
      "outputs": [
        {
          "data": {
            "image/png": "[encoded data removed]",
            "text/plain": [
              "<Figure size 864x576 with 2 Axes>"
            ]
          },
          "metadata": {},
          "output_type": "display_data"
        }
      ],
      "source": [
        "cm_logreg = confusion_matrix(y_test,y_predict_test_logreg)\n",
        "draw_confusion_matrix(cm_logreg)"
      ]
    },
    {
      "cell_type": "code",
      "execution_count": null,
      "metadata": {
        "colab": {
          "base_uri": "https://localhost:8080/"
        },
        "id": "r5c1yMNgpJEk",
        "outputId": "43c48083-0210-45c2-8bb8-3e4dd6e076d4"
      },
      "outputs": [
        {
          "name": "stdout",
          "output_type": "stream",
          "text": [
            "1.0\n",
            "0.7142857142857143\n"
          ]
        }
      ],
      "source": [
        "from sklearn.ensemble import RandomForestClassifier\n",
        "from sklearn.metrics import accuracy_score, confusion_matrix\n",
        "\n",
        "rf = RandomForestClassifier(random_state=42, n_estimators=50, max_depth=6, criterion = 'entropy', \n",
        "                            min_samples_leaf= 1,min_samples_split= 2)\n",
        "rf.fit(X_train, y_train)\n",
        "\n",
        "y_predict_train_rf = rf.predict(X_train)\n",
        "y_predict_test_rf = rf.predict(X_test)\n",
        "\n",
        "train_accuracy_score_rf = accuracy_score(y_train, y_predict_train_rf)\n",
        "test_accuracy_score_rf = accuracy_score(y_test, y_predict_test_rf)\n",
        "\n",
        "print(train_accuracy_score_rf)\n",
        "print(test_accuracy_score_rf)"
      ]
    },
    {
      "cell_type": "code",
      "execution_count": null,
      "metadata": {
        "colab": {
          "base_uri": "https://localhost:8080/",
          "height": 513
        },
        "id": "t0_8dmebpJB9",
        "outputId": "e37604a2-9e21-4a65-f900-539f4e4cb559"
      },
      "outputs": [
        {
          "data": {
            "image/png": "[encoded data removed]",
            "text/plain": [
              "<Figure size 864x576 with 2 Axes>"
            ]
          },
          "metadata": {},
          "output_type": "display_data"
        }
      ],
      "source": [
        "cm_rf = confusion_matrix(y_test,y_predict_test_rf)\n",
        "draw_confusion_matrix(cm_rf)"
      ]
    },
    {
      "cell_type": "code",
      "execution_count": null,
      "metadata": {
        "colab": {
          "base_uri": "https://localhost:8080/",
          "height": 206
        },
        "id": "-ceqOvIJrRtu",
        "outputId": "2c869dcf-f340-4a73-9f2f-c159864b7977"
      },
      "outputs": [
        {
          "data": {
            "text/html": [
              "\n",
              "  <div id=\"df-0fd784e5-e947-4b27-8c4b-224347a9fbae\">\n",
              "    <div class=\"colab-df-container\">\n",
              "      <div>\n",
              "<style scoped>\n",
              "    .dataframe tbody tr th:only-of-type {\n",
              "        vertical-align: middle;\n",
              "    }\n",
              "\n",
              "    .dataframe tbody tr th {\n",
              "        vertical-align: top;\n",
              "    }\n",
              "\n",
              "    .dataframe thead th {\n",
              "        text-align: right;\n",
              "    }\n",
              "</style>\n",
              "<table border=\"1\" class=\"dataframe\">\n",
              "  <thead>\n",
              "    <tr style=\"text-align: right;\">\n",
              "      <th></th>\n",
              "      <th>type</th>\n",
              "      <th>brightness</th>\n",
              "      <th>contrast</th>\n",
              "      <th>blurrness</th>\n",
              "      <th>noise</th>\n",
              "      <th>text_ratio</th>\n",
              "      <th>width</th>\n",
              "      <th>height</th>\n",
              "      <th>artifacts</th>\n",
              "    </tr>\n",
              "  </thead>\n",
              "  <tbody>\n",
              "    <tr>\n",
              "      <th>0</th>\n",
              "      <td>0.0</td>\n",
              "      <td>0.970037</td>\n",
              "      <td>0.966757</td>\n",
              "      <td>0.000217</td>\n",
              "      <td>0.001864</td>\n",
              "      <td>0.002338</td>\n",
              "      <td>0.702727</td>\n",
              "      <td>0.951287</td>\n",
              "      <td>0.085143</td>\n",
              "    </tr>\n",
              "    <tr>\n",
              "      <th>1</th>\n",
              "      <td>0.0</td>\n",
              "      <td>0.875540</td>\n",
              "      <td>0.866592</td>\n",
              "      <td>0.118587</td>\n",
              "      <td>0.000000</td>\n",
              "      <td>0.007739</td>\n",
              "      <td>0.000000</td>\n",
              "      <td>0.000000</td>\n",
              "      <td>0.184138</td>\n",
              "    </tr>\n",
              "    <tr>\n",
              "      <th>2</th>\n",
              "      <td>0.0</td>\n",
              "      <td>0.933830</td>\n",
              "      <td>0.938616</td>\n",
              "      <td>0.092737</td>\n",
              "      <td>0.046308</td>\n",
              "      <td>0.003233</td>\n",
              "      <td>0.124091</td>\n",
              "      <td>0.115809</td>\n",
              "      <td>0.072611</td>\n",
              "    </tr>\n",
              "    <tr>\n",
              "      <th>3</th>\n",
              "      <td>0.0</td>\n",
              "      <td>0.304001</td>\n",
              "      <td>0.197579</td>\n",
              "      <td>0.016326</td>\n",
              "      <td>0.922916</td>\n",
              "      <td>1.000000</td>\n",
              "      <td>0.219091</td>\n",
              "      <td>0.084099</td>\n",
              "      <td>0.172318</td>\n",
              "    </tr>\n",
              "    <tr>\n",
              "      <th>4</th>\n",
              "      <td>0.0</td>\n",
              "      <td>0.259744</td>\n",
              "      <td>0.295348</td>\n",
              "      <td>0.176359</td>\n",
              "      <td>0.000000</td>\n",
              "      <td>0.125544</td>\n",
              "      <td>0.662273</td>\n",
              "      <td>0.925092</td>\n",
              "      <td>0.852325</td>\n",
              "    </tr>\n",
              "  </tbody>\n",
              "</table>\n",
              "</div>\n",
              "      <button class=\"colab-df-convert\" onclick=\"convertToInteractive('df-0fd784e5-e947-4b27-8c4b-224347a9fbae')\"\n",
              "              title=\"Convert this dataframe to an interactive table.\"\n",
              "              style=\"display:none;\">\n",
              "        \n",
              "  <svg xmlns=\"http://www.w3.org/2000/svg\" height=\"24px\"viewBox=\"0 0 24 24\"\n",
              "       width=\"24px\">\n",
              "    <path d=\"M0 0h24v24H0V0z\" fill=\"none\"/>\n",
              "    <path d=\"M18.56 5.44l.94 2.06.94-2.06 2.06-.94-2.06-.94-.94-2.06-.94 2.06-2.06.94zm-11 1L8.5 8.5l.94-2.06 2.06-.94-2.06-.94L8.5 2.5l-.94 2.06-2.06.94zm10 10l.94 2.06.94-2.06 2.06-.94-2.06-.94-.94-2.06-.94 2.06-2.06.94z\"/><path d=\"M17.41 7.96l-1.37-1.37c-.4-.4-.92-.59-1.43-.59-.52 0-1.04.2-1.43.59L10.3 9.45l-7.72 7.72c-.78.78-.78 2.05 0 2.83L4 21.41c.39.39.9.59 1.41.59.51 0 1.02-.2 1.41-.59l7.78-7.78 2.81-2.81c.8-.78.8-2.07 0-2.86zM5.41 20L4 18.59l7.72-7.72 1.47 1.35L5.41 20z\"/>\n",
              "  </svg>\n",
              "      </button>\n",
              "      \n",
              "  <style>\n",
              "    .colab-df-container {\n",
              "      display:flex;\n",
              "      flex-wrap:wrap;\n",
              "      gap: 12px;\n",
              "    }\n",
              "\n",
              "    .colab-df-convert {\n",
              "      background-color: #E8F0FE;\n",
              "      border: none;\n",
              "      border-radius: 50%;\n",
              "      cursor: pointer;\n",
              "      display: none;\n",
              "      fill: #1967D2;\n",
              "      height: 32px;\n",
              "      padding: 0 0 0 0;\n",
              "      width: 32px;\n",
              "    }\n",
              "\n",
              "    .colab-df-convert:hover {\n",
              "      background-color: #E2EBFA;\n",
              "      box-shadow: 0px 1px 2px rgba(60, 64, 67, 0.3), 0px 1px 3px 1px rgba(60, 64, 67, 0.15);\n",
              "      fill: #174EA6;\n",
              "    }\n",
              "\n",
              "    [theme=dark] .colab-df-convert {\n",
              "      background-color: #3B4455;\n",
              "      fill: #D2E3FC;\n",
              "    }\n",
              "\n",
              "    [theme=dark] .colab-df-convert:hover {\n",
              "      background-color: #434B5C;\n",
              "      box-shadow: 0px 1px 3px 1px rgba(0, 0, 0, 0.15);\n",
              "      filter: drop-shadow(0px 1px 2px rgba(0, 0, 0, 0.3));\n",
              "      fill: #FFFFFF;\n",
              "    }\n",
              "  </style>\n",
              "\n",
              "      <script>\n",
              "        const buttonEl =\n",
              "          document.querySelector('#df-0fd784e5-e947-4b27-8c4b-224347a9fbae button.colab-df-convert');\n",
              "        buttonEl.style.display =\n",
              "          google.colab.kernel.accessAllowed ? 'block' : 'none';\n",
              "\n",
              "        async function convertToInteractive(key) {\n",
              "          const element = document.querySelector('#df-0fd784e5-e947-4b27-8c4b-224347a9fbae');\n",
              "          const dataTable =\n",
              "            await google.colab.kernel.invokeFunction('convertToInteractive',\n",
              "                                                     [key], {});\n",
              "          if (!dataTable) return;\n",
              "\n",
              "          const docLinkHtml = 'Like what you see? Visit the ' +\n",
              "            '<a target=\"_blank\" href=https://colab.research.google.com/notebooks/data_table.ipynb>data table notebook</a>'\n",
              "            + ' to learn more about interactive tables.';\n",
              "          element.innerHTML = '';\n",
              "          dataTable['output_type'] = 'display_data';\n",
              "          await google.colab.output.renderOutput(dataTable, element);\n",
              "          const docLink = document.createElement('div');\n",
              "          docLink.innerHTML = docLinkHtml;\n",
              "          element.appendChild(docLink);\n",
              "        }\n",
              "      </script>\n",
              "    </div>\n",
              "  </div>\n",
              "  "
            ],
            "text/plain": [
              "   type  brightness  contrast  blurrness     noise  text_ratio     width  \\\n",
              "0   0.0    0.970037  0.966757   0.000217  0.001864    0.002338  0.702727   \n",
              "1   0.0    0.875540  0.866592   0.118587  0.000000    0.007739  0.000000   \n",
              "2   0.0    0.933830  0.938616   0.092737  0.046308    0.003233  0.124091   \n",
              "3   0.0    0.304001  0.197579   0.016326  0.922916    1.000000  0.219091   \n",
              "4   0.0    0.259744  0.295348   0.176359  0.000000    0.125544  0.662273   \n",
              "\n",
              "     height  artifacts  \n",
              "0  0.951287   0.085143  \n",
              "1  0.000000   0.184138  \n",
              "2  0.115809   0.072611  \n",
              "3  0.084099   0.172318  \n",
              "4  0.925092   0.852325  "
            ]
          },
          "execution_count": 104,
          "metadata": {},
          "output_type": "execute_result"
        }
      ],
      "source": [
        "from sklearn.preprocessing import MinMaxScaler\n",
        "# df=df.drop(['image'],axis=1)\n",
        "# define min max scaler\n",
        "scaler = MinMaxScaler()\n",
        "# transform data\n",
        "scaled_df = scaler.fit_transform(df)\n",
        "# print(scaled_df)\n",
        "scaled = pd.DataFrame(scaled_df, index=df.index, columns=df.columns)\n",
        "scaled.head()"
      ]
    },
    {
      "cell_type": "code",
      "execution_count": null,
      "metadata": {
        "id": "uM1Wz4jbs8Yy"
      },
      "outputs": [],
      "source": [
        "x_scaled=scaled.drop(['type'],axis=1)\n",
        "y_scaled=scaled['type']"
      ]
    },
    {
      "cell_type": "code",
      "execution_count": null,
      "metadata": {
        "colab": {
          "base_uri": "https://localhost:8080/"
        },
        "id": "Np3zCnixs-5L",
        "outputId": "a4b73b40-ebf5-402b-adae-3f196de34bdb"
      },
      "outputs": [
        {
          "data": {
            "text/plain": [
              "0     0\n",
              "1     0\n",
              "2     0\n",
              "3     0\n",
              "4     0\n",
              "     ..\n",
              "64    3\n",
              "65    3\n",
              "66    3\n",
              "67    3\n",
              "68    3\n",
              "Name: type, Length: 69, dtype: int64"
            ]
          },
          "execution_count": 109,
          "metadata": {},
          "output_type": "execute_result"
        }
      ],
      "source": [
        "y_scaled=df['type']\n",
        "y_scaled"
      ]
    },
    {
      "cell_type": "code",
      "execution_count": null,
      "metadata": {
        "colab": {
          "base_uri": "https://localhost:8080/"
        },
        "id": "FsERxOugpI_N",
        "outputId": "5196543d-7b7d-4dff-fc89-047cac00438a"
      },
      "outputs": [
        {
          "name": "stdout",
          "output_type": "stream",
          "text": [
            "1.0\n",
            "0.47619047619047616\n"
          ]
        }
      ],
      "source": [
        "from sklearn.ensemble import RandomForestClassifier\n",
        "from sklearn.metrics import accuracy_score, confusion_matrix\n",
        "\n",
        "rf = RandomForestClassifier(random_state=3232, n_estimators=50, max_depth=6, criterion = 'entropy', \n",
        "                            min_samples_leaf= 1,min_samples_split= 2)\n",
        "rf.fit(X_train, y_train)\n",
        "\n",
        "y_predict_train_rf = rf.predict(X_train)\n",
        "y_predict_test_rf = rf.predict(X_test)\n",
        "\n",
        "train_accuracy_score_rf = accuracy_score(y_train, y_predict_train_rf)\n",
        "test_accuracy_score_rf = accuracy_score(y_test, y_predict_test_rf)\n",
        "\n",
        "print(train_accuracy_score_rf)\n",
        "print(test_accuracy_score_rf)"
      ]
    },
    {
      "cell_type": "code",
      "execution_count": null,
      "metadata": {
        "id": "Mb1EfD8jvF4F"
      },
      "outputs": [],
      "source": [
        "X1=df['brightness']\n",
        "y=df['type']"
      ]
    },
    {
      "cell_type": "code",
      "execution_count": null,
      "metadata": {
        "id": "o9wf_y1xv0ue"
      },
      "outputs": [],
      "source": [
        "import numpy\n",
        "arr = numpy.array(X1)\n",
        "numpy.reshape(arr, (1, -1))\n",
        "n2= numpy.reshape(arr, (1, len(arr)))"
      ]
    },
    {
      "cell_type": "code",
      "execution_count": null,
      "metadata": {
        "id": "-zmHr6PotON5"
      },
      "outputs": [],
      "source": [
        "from sklearn.model_selection import train_test_split\n",
        "X_train,X_test,y_train,y_test = train_test_split(X1, y, stratify=y, test_size = 0.3)"
      ]
    },
    {
      "cell_type": "code",
      "execution_count": null,
      "metadata": {
        "colab": {
          "base_uri": "https://localhost:8080/",
          "height": 553
        },
        "id": "5XmpK3a2pI7X",
        "outputId": "8a899886-56a9-4b68-a0bf-d786302dbb1f"
      },
      "outputs": [
        {
          "ename": "ValueError",
          "evalue": "ignored",
          "output_type": "error",
          "traceback": [
            "\u001b[0;31m---------------------------------------------------------------------------\u001b[0m",
            "\u001b[0;31mValueError\u001b[0m                                Traceback (most recent call last)",
            "\u001b[0;32m<ipython-input-155-b0f99f6f8d74>\u001b[0m in \u001b[0;36m<module>\u001b[0;34m\u001b[0m\n\u001b[1;32m      4\u001b[0m rf = RandomForestClassifier(random_state=1222, n_estimators=50, max_depth=6, criterion = 'entropy', \n\u001b[1;32m      5\u001b[0m                             min_samples_leaf= 1,min_samples_split= 2)\n\u001b[0;32m----> 6\u001b[0;31m \u001b[0mrf\u001b[0m\u001b[0;34m.\u001b[0m\u001b[0mfit\u001b[0m\u001b[0;34m(\u001b[0m\u001b[0mX_train\u001b[0m\u001b[0;34m,\u001b[0m \u001b[0my_train\u001b[0m\u001b[0;34m)\u001b[0m\u001b[0;34m\u001b[0m\u001b[0;34m\u001b[0m\u001b[0m\n\u001b[0m\u001b[1;32m      7\u001b[0m \u001b[0;34m\u001b[0m\u001b[0m\n\u001b[1;32m      8\u001b[0m \u001b[0my_predict_train_rf\u001b[0m \u001b[0;34m=\u001b[0m \u001b[0mrf\u001b[0m\u001b[0;34m.\u001b[0m\u001b[0mpredict\u001b[0m\u001b[0;34m(\u001b[0m\u001b[0mX_train\u001b[0m\u001b[0;34m)\u001b[0m\u001b[0;34m\u001b[0m\u001b[0;34m\u001b[0m\u001b[0m\n",
            "\u001b[0;32m/usr/local/lib/python3.8/dist-packages/sklearn/ensemble/_forest.py\u001b[0m in \u001b[0;36mfit\u001b[0;34m(self, X, y, sample_weight)\u001b[0m\n\u001b[1;32m    325\u001b[0m         \u001b[0;32mif\u001b[0m \u001b[0missparse\u001b[0m\u001b[0;34m(\u001b[0m\u001b[0my\u001b[0m\u001b[0;34m)\u001b[0m\u001b[0;34m:\u001b[0m\u001b[0;34m\u001b[0m\u001b[0;34m\u001b[0m\u001b[0m\n\u001b[1;32m    326\u001b[0m             \u001b[0;32mraise\u001b[0m \u001b[0mValueError\u001b[0m\u001b[0;34m(\u001b[0m\u001b[0;34m\"sparse multilabel-indicator for y is not supported.\"\u001b[0m\u001b[0;34m)\u001b[0m\u001b[0;34m\u001b[0m\u001b[0;34m\u001b[0m\u001b[0m\n\u001b[0;32m--> 327\u001b[0;31m         X, y = self._validate_data(\n\u001b[0m\u001b[1;32m    328\u001b[0m             \u001b[0mX\u001b[0m\u001b[0;34m,\u001b[0m \u001b[0my\u001b[0m\u001b[0;34m,\u001b[0m \u001b[0mmulti_output\u001b[0m\u001b[0;34m=\u001b[0m\u001b[0;32mTrue\u001b[0m\u001b[0;34m,\u001b[0m \u001b[0maccept_sparse\u001b[0m\u001b[0;34m=\u001b[0m\u001b[0;34m\"csc\"\u001b[0m\u001b[0;34m,\u001b[0m \u001b[0mdtype\u001b[0m\u001b[0;34m=\u001b[0m\u001b[0mDTYPE\u001b[0m\u001b[0;34m\u001b[0m\u001b[0;34m\u001b[0m\u001b[0m\n\u001b[1;32m    329\u001b[0m         )\n",
            "\u001b[0;32m/usr/local/lib/python3.8/dist-packages/sklearn/base.py\u001b[0m in \u001b[0;36m_validate_data\u001b[0;34m(self, X, y, reset, validate_separately, **check_params)\u001b[0m\n\u001b[1;32m    579\u001b[0m                 \u001b[0my\u001b[0m \u001b[0;34m=\u001b[0m \u001b[0mcheck_array\u001b[0m\u001b[0;34m(\u001b[0m\u001b[0my\u001b[0m\u001b[0;34m,\u001b[0m \u001b[0;34m**\u001b[0m\u001b[0mcheck_y_params\u001b[0m\u001b[0;34m)\u001b[0m\u001b[0;34m\u001b[0m\u001b[0;34m\u001b[0m\u001b[0m\n\u001b[1;32m    580\u001b[0m             \u001b[0;32melse\u001b[0m\u001b[0;34m:\u001b[0m\u001b[0;34m\u001b[0m\u001b[0;34m\u001b[0m\u001b[0m\n\u001b[0;32m--> 581\u001b[0;31m                 \u001b[0mX\u001b[0m\u001b[0;34m,\u001b[0m \u001b[0my\u001b[0m \u001b[0;34m=\u001b[0m \u001b[0mcheck_X_y\u001b[0m\u001b[0;34m(\u001b[0m\u001b[0mX\u001b[0m\u001b[0;34m,\u001b[0m \u001b[0my\u001b[0m\u001b[0;34m,\u001b[0m \u001b[0;34m**\u001b[0m\u001b[0mcheck_params\u001b[0m\u001b[0;34m)\u001b[0m\u001b[0;34m\u001b[0m\u001b[0;34m\u001b[0m\u001b[0m\n\u001b[0m\u001b[1;32m    582\u001b[0m             \u001b[0mout\u001b[0m \u001b[0;34m=\u001b[0m \u001b[0mX\u001b[0m\u001b[0;34m,\u001b[0m \u001b[0my\u001b[0m\u001b[0;34m\u001b[0m\u001b[0;34m\u001b[0m\u001b[0m\n\u001b[1;32m    583\u001b[0m \u001b[0;34m\u001b[0m\u001b[0m\n",
            "\u001b[0;32m/usr/local/lib/python3.8/dist-packages/sklearn/utils/validation.py\u001b[0m in \u001b[0;36mcheck_X_y\u001b[0;34m(X, y, accept_sparse, accept_large_sparse, dtype, order, copy, force_all_finite, ensure_2d, allow_nd, multi_output, ensure_min_samples, ensure_min_features, y_numeric, estimator)\u001b[0m\n\u001b[1;32m    962\u001b[0m         \u001b[0;32mraise\u001b[0m \u001b[0mValueError\u001b[0m\u001b[0;34m(\u001b[0m\u001b[0;34m\"y cannot be None\"\u001b[0m\u001b[0;34m)\u001b[0m\u001b[0;34m\u001b[0m\u001b[0;34m\u001b[0m\u001b[0m\n\u001b[1;32m    963\u001b[0m \u001b[0;34m\u001b[0m\u001b[0m\n\u001b[0;32m--> 964\u001b[0;31m     X = check_array(\n\u001b[0m\u001b[1;32m    965\u001b[0m         \u001b[0mX\u001b[0m\u001b[0;34m,\u001b[0m\u001b[0;34m\u001b[0m\u001b[0;34m\u001b[0m\u001b[0m\n\u001b[1;32m    966\u001b[0m         \u001b[0maccept_sparse\u001b[0m\u001b[0;34m=\u001b[0m\u001b[0maccept_sparse\u001b[0m\u001b[0;34m,\u001b[0m\u001b[0;34m\u001b[0m\u001b[0;34m\u001b[0m\u001b[0m\n",
            "\u001b[0;32m/usr/local/lib/python3.8/dist-packages/sklearn/utils/validation.py\u001b[0m in \u001b[0;36mcheck_array\u001b[0;34m(array, accept_sparse, accept_large_sparse, dtype, order, copy, force_all_finite, ensure_2d, allow_nd, ensure_min_samples, ensure_min_features, estimator)\u001b[0m\n\u001b[1;32m    767\u001b[0m             \u001b[0;31m# If input is 1D raise error\u001b[0m\u001b[0;34m\u001b[0m\u001b[0;34m\u001b[0m\u001b[0;34m\u001b[0m\u001b[0m\n\u001b[1;32m    768\u001b[0m             \u001b[0;32mif\u001b[0m \u001b[0marray\u001b[0m\u001b[0;34m.\u001b[0m\u001b[0mndim\u001b[0m \u001b[0;34m==\u001b[0m \u001b[0;36m1\u001b[0m\u001b[0;34m:\u001b[0m\u001b[0;34m\u001b[0m\u001b[0;34m\u001b[0m\u001b[0m\n\u001b[0;32m--> 769\u001b[0;31m                 raise ValueError(\n\u001b[0m\u001b[1;32m    770\u001b[0m                     \u001b[0;34m\"Expected 2D array, got 1D array instead:\\narray={}.\\n\"\u001b[0m\u001b[0;34m\u001b[0m\u001b[0;34m\u001b[0m\u001b[0m\n\u001b[1;32m    771\u001b[0m                     \u001b[0;34m\"Reshape your data either using array.reshape(-1, 1) if \"\u001b[0m\u001b[0;34m\u001b[0m\u001b[0;34m\u001b[0m\u001b[0m\n",
            "\u001b[0;31mValueError\u001b[0m: Expected 2D array, got 1D array instead:\narray=[0.4204158  0.96089655 0.93483853 0.95229775 0.9534078  0.8468824\n 0.41326457 0.9542025  0.8152857  0.46275482 0.945125   0.9160016\n 0.910061   0.41762078 0.89920056 0.96041214 0.8497653  0.65042657\n 0.94452196 0.9677286  0.9825741  0.9377691  0.7395965  0.8387588\n 0.91133964 0.46319067 0.9121437  0.95490676 0.9630447  0.78016067\n 0.9959693  0.9655665  0.96861804 0.34574834 0.7509363  0.30799034\n 0.7899053  0.55552435 0.96558607 0.9327136  0.62043285 0.91494524\n 0.9726725  0.7439847  0.4548259  0.8996451  0.94705373 0.92460454].\nReshape your data either using array.reshape(-1, 1) if your data has a single feature or array.reshape(1, -1) if it contains a single sample."
          ]
        }
      ],
      "source": [
        "from sklearn.ensemble import RandomForestClassifier\n",
        "from sklearn.metrics import accuracy_score, confusion_matrix\n",
        "\n",
        "rf = RandomForestClassifier(random_state=1222, n_estimators=50, max_depth=6, criterion = 'entropy', \n",
        "                            min_samples_leaf= 1,min_samples_split= 2)\n",
        "rf.fit(X_train, y_train)\n",
        "\n",
        "y_predict_train_rf = rf.predict(X_train)\n",
        "y_predict_test_rf = rf.predict(X_test)\n",
        "\n",
        "train_accuracy_score_rf = accuracy_score(y_train, y_predict_train_rf)\n",
        "test_accuracy_score_rf = accuracy_score(y_test, y_predict_test_rf)\n",
        "\n",
        "print(train_accuracy_score_rf)\n",
        "print(test_accuracy_score_rf)"
      ]
    },
    {
      "cell_type": "code",
      "execution_count": null,
      "metadata": {
        "id": "eklZGJ8ptKm3"
      },
      "outputs": [],
      "source": []
    },
    {
      "cell_type": "code",
      "execution_count": null,
      "metadata": {
        "id": "thiNpBXgtKkc"
      },
      "outputs": [],
      "source": []
    },
    {
      "cell_type": "code",
      "execution_count": null,
      "metadata": {
        "id": "xJFTtRyRtKh6"
      },
      "outputs": [],
      "source": []
    },
    {
      "cell_type": "code",
      "execution_count": null,
      "metadata": {
        "id": "YdjYN20JtKfE"
      },
      "outputs": [],
      "source": []
    },
    {
      "cell_type": "code",
      "execution_count": null,
      "metadata": {
        "id": "IsdMbf26tKcK"
      },
      "outputs": [],
      "source": []
    },
    {
      "cell_type": "code",
      "execution_count": null,
      "metadata": {
        "id": "Kc-zMD2PpI38"
      },
      "outputs": [],
      "source": []
    },
    {
      "cell_type": "code",
      "execution_count": null,
      "metadata": {
        "id": "QiouFDsZ490G"
      },
      "outputs": [],
      "source": [
        "X_train, X_test, y_train, y_test = train_test_split(x, y, test_size=0.33,random_state=54)"
      ]
    },
    {
      "cell_type": "code",
      "execution_count": null,
      "metadata": {
        "id": "gmKYAHV9mD82"
      },
      "outputs": [],
      "source": [
        "from sklearn.linear_model import LinearRegression\n",
        "model = LinearRegression().fit(X_train, y_train)"
      ]
    },
    {
      "cell_type": "code",
      "execution_count": null,
      "metadata": {
        "id": "y3c_0ipDmlpQ"
      },
      "outputs": [],
      "source": [
        "result= model.predict(X_test)"
      ]
    },
    {
      "cell_type": "code",
      "execution_count": null,
      "metadata": {
        "colab": {
          "base_uri": "https://localhost:8080/"
        },
        "id": "WH3cSHf9mpG-",
        "outputId": "2ec00de3-30e5-40c0-dc05-fa416d36edb2"
      },
      "outputs": [
        {
          "data": {
            "text/plain": [
              "array([ 0.58203211,  0.55937117, -0.21500882,  0.48280375,  0.40229842,\n",
              "        0.6093351 ,  0.58329229,  0.57269367,  0.7980765 ,  0.3302133 ,\n",
              "        0.7152473 ,  0.75926629,  0.66930731,  0.56229885,  0.54358881,\n",
              "        0.67653687,  0.76455432,  0.62757035,  0.06969162,  0.66700455,\n",
              "        0.54397   ,  0.55931951,  0.57253463])"
            ]
          },
          "execution_count": 37,
          "metadata": {},
          "output_type": "execute_result"
        }
      ],
      "source": [
        "result"
      ]
    },
    {
      "cell_type": "code",
      "execution_count": null,
      "metadata": {
        "id": "POvcTyj_mqgo"
      },
      "outputs": [],
      "source": [
        "from sklearn import metrics"
      ]
    },
    {
      "cell_type": "code",
      "execution_count": null,
      "metadata": {
        "id": "c_Jqtutv492_"
      },
      "outputs": [],
      "source": [
        "%%time\n",
        "clf=RandomForestClassifier(n_estimators=100,max_depth=2, min_samples_split=5, min_samples_leaf=5)\n",
        "# clf.predict()\n",
        "clf = clf.fit(X_train,y_train)\n",
        "y_pred = clf.predict(X_test)\n",
        "\n",
        "print(\"Accuracy:\",metrics.accuracy_score(y_test, y_pred))"
      ]
    },
    {
      "cell_type": "code",
      "execution_count": null,
      "metadata": {
        "id": "SivieDGgCYk6"
      },
      "outputs": [],
      "source": []
    },
    {
      "cell_type": "code",
      "execution_count": null,
      "metadata": {
        "id": "3F7DsFeZ495h"
      },
      "outputs": [],
      "source": [
        "from sklearn import metrics\n",
        "confusion_matrix = metrics.confusion_matrix(y_test, y_pred)\n",
        "cm_display = metrics.ConfusionMatrixDisplay(confusion_matrix = confusion_matrix, display_labels = [False, True])\n",
        "cm_display.plot()\n",
        "plt.show()"
      ]
    },
    {
      "cell_type": "code",
      "execution_count": null,
      "metadata": {
        "id": "LZSRU1R9498e"
      },
      "outputs": [],
      "source": [
        "pip install shap"
      ]
    },
    {
      "cell_type": "code",
      "execution_count": null,
      "metadata": {
        "id": "g4uDjpoP49_W"
      },
      "outputs": [],
      "source": [
        "# Create a tree explainer\n",
        "import shap\n",
        "rf_explainer = shap.TreeExplainer(\n",
        "    clf, X_train, feature_names=X_train.columns.tolist()\n",
        ")\n",
        "\n",
        "print(rf_explainer)"
      ]
    },
    {
      "cell_type": "code",
      "execution_count": null,
      "metadata": {
        "id": "nu_FThLq4-EZ"
      },
      "outputs": [],
      "source": [
        "shap_values_rf = rf_explainer.shap_values(X_train, y_train,approximate=True)\n",
        "shap_values_rf2=np.array(shap_values_rf)\n",
        "\n",
        "print(shap_values_rf2.shape)"
      ]
    },
    {
      "cell_type": "code",
      "execution_count": null,
      "metadata": {
        "id": "32dmCeEm9xca"
      },
      "outputs": [],
      "source": [
        "shap_values_rf2"
      ]
    },
    {
      "cell_type": "code",
      "execution_count": null,
      "metadata": {
        "id": "9zhW6jQw9xYx"
      },
      "outputs": [],
      "source": [
        "shap_values_rf2 = shap_values_rf2[:, :-1]\n",
        "\n",
        "shap_df=pd.DataFrame(shap_values_rf2, columns=X_train.columns.tolist()).head()\n",
        "shap_df"
      ]
    },
    {
      "cell_type": "code",
      "execution_count": null,
      "metadata": {
        "id": "sEvRhKtV9xVq"
      },
      "outputs": [],
      "source": [
        "import shap\n",
        "shap.initjs()"
      ]
    },
    {
      "cell_type": "code",
      "execution_count": null,
      "metadata": {
        "id": "u_i2ifo_9xTL"
      },
      "outputs": [],
      "source": [
        "%time\n",
        "samples = X_train\n",
        "\n",
        "explainer = shap.TreeExplainer(clf)\n",
        "shap_values = explainer.shap_values(samples, approximate=False, check_additivity=False)\n",
        "\n",
        "shap.summary_plot(shap_values[1], samples)"
      ]
    },
    {
      "cell_type": "code",
      "execution_count": null,
      "metadata": {
        "id": "k5HqcCrf9xQr"
      },
      "outputs": [],
      "source": [
        "def make_shap_waterfall_plot(shap_values, features, num_display=20):\n",
        "    \n",
        "    '''\n",
        "    A function for building a SHAP waterfall plot.\n",
        "    \n",
        "    SHAP waterfall plot is used to visualize the most important features in a descending order.\n",
        "    \n",
        "    Parameters:\n",
        "    shap_values (list): SHAP values obtained from a model\n",
        "    features (pandas DataFrame): a list of features used in a model\n",
        "    num_display(int): number of features to display\n",
        "    \n",
        "    Returns:\n",
        "    matplotlib.pyplot plot: SHAP waterfall plot\n",
        "    \n",
        "    '''\n",
        "    \n",
        "    column_list = features.columns\n",
        "    feature_ratio = (np.abs(shap_values).sum(0) / np.abs(shap_values).sum()) * 100\n",
        "    column_list = column_list[np.argsort(feature_ratio)[::-1]]\n",
        "    feature_ratio_order = np.sort(feature_ratio)[::-1]\n",
        "    cum_sum = np.cumsum(feature_ratio_order)\n",
        "    column_list = column_list[:num_display]\n",
        "    feature_ratio_order = feature_ratio_order[:num_display]\n",
        "    cum_sum = cum_sum[:num_display]\n",
        "    \n",
        "    num_height = 0\n",
        "    if (num_display >= 20) & (len(column_list) >= 20):\n",
        "        num_height = (len(column_list) - 20) * 0.4\n",
        "        \n",
        "    fig, ax1 = plt.subplots(figsize=(8, 8 + num_height))\n",
        "    ax1.plot(cum_sum[::-1], column_list[::-1], c='blue', marker='o')\n",
        "    ax2 = ax1.twiny()\n",
        "    ax2.barh(column_list[::-1], feature_ratio_order[::-1], alpha=0.6)\n",
        "    \n",
        "    ax1.grid(True)\n",
        "    ax2.grid(False)\n",
        "    ax1.set_xticks(np.arange(0, round(cum_sum.max(), -1)+1, 10))\n",
        "    ax2.set_xticks(np.arange(0, round(feature_ratio_order.max(), -1)+1, 10))\n",
        "    ax1.set_xlabel('Cumulative Ratio')\n",
        "    ax2.set_xlabel('Composition Ratio')\n",
        "    ax1.tick_params(axis=\"y\", labelsize=13)\n",
        "    plt.ylim(-1, len(column_list))"
      ]
    },
    {
      "cell_type": "code",
      "execution_count": null,
      "metadata": {
        "id": "OYm5lcxm9xOH"
      },
      "outputs": [],
      "source": [
        "make_shap_waterfall_plot(shap_values[1], samples)"
      ]
    },
    {
      "cell_type": "code",
      "execution_count": null,
      "metadata": {
        "id": "5KM7l8W_9xLK"
      },
      "outputs": [],
      "source": [
        "import xgboost as xgb\n",
        "from sklearn.metrics import accuracy_score\n",
        "%%time\n",
        "# Init classifier\n",
        "xgb_cl = xgb.XGBClassifier()\n",
        "\n",
        "# Fit\n",
        "xgb_cl.fit(X_train, y_train)\n",
        "\n",
        "# Predict\n",
        "preds = xgb_cl.predict(X_test)\n",
        "\n",
        "# Score\n",
        "print(accuracy_score(y_test, preds))"
      ]
    },
    {
      "cell_type": "code",
      "execution_count": null,
      "metadata": {
        "id": "43ynkJn_CV73"
      },
      "outputs": [],
      "source": []
    },
    {
      "cell_type": "markdown",
      "metadata": {
        "id": "8sHZoc0MCVrC"
      },
      "source": []
    },
    {
      "cell_type": "markdown",
      "metadata": {
        "id": "c4ygQvXP-9hY"
      },
      "source": [
        "# Comparison classification models"
      ]
    },
    {
      "cell_type": "code",
      "execution_count": null,
      "metadata": {
        "id": "ztNO_8BMIMap"
      },
      "outputs": [],
      "source": [
        "RANDOM_STATE = 545\n",
        "classifiers = [LogisticRegression(max_iter=70, random_state=RANDOM_STATE),\n",
        "               DecisionTreeClassifier(max_depth=2, random_state=RANDOM_STATE),\n",
        "               SVC(C=3, kernel='linear', random_state=RANDOM_STATE),\n",
        "               RandomForestClassifier(\n",
        "                   max_depth=10, min_samples_split=5, min_samples_leaf=5, random_state=RANDOM_STATE),\n",
        "               AdaBoostClassifier(DecisionTreeClassifier(\n",
        "                   max_depth=2, random_state=RANDOM_STATE), random_state=RANDOM_STATE),\n",
        "               GradientBoostingClassifier(\n",
        "                   learning_rate=0.005, n_estimators=30, random_state=RANDOM_STATE),\n",
        "               KNeighborsClassifier(),\n",
        "               GaussianNB(var_smoothing=1e-2),\n",
        "              LogisticRegression(solver='liblinear')\n",
        "               ]"
      ]
    },
    {
      "cell_type": "code",
      "execution_count": null,
      "metadata": {
        "id": "7ITfBRgAIMXy"
      },
      "outputs": [],
      "source": [
        "classifiers_names = ['Logistic Regression',\n",
        "                     'Decision Tree Classifier',\n",
        "                     'Support Vector Machine',\n",
        "                     'Random Forest Classifier',\n",
        "                     'AdaBoost Classifier',\n",
        "                     'Gradient Boosting Classifier',\n",
        "                     'K Neighbors Classifier',\n",
        "                     'Gaussian Naive Bayes',\n",
        "                     'Log reg liblinear'\n",
        "                     ]\n"
      ]
    },
    {
      "cell_type": "code",
      "execution_count": null,
      "metadata": {
        "id": "4wlEONcKIMVI"
      },
      "outputs": [],
      "source": [
        "def cv_fit_models():\n",
        "    i=0\n",
        "    train_acc_results = []\n",
        "    cv_scores = {classifier_name: [] for classifier_name in classifiers_names}\n",
        "    for classifier_name in classifiers_names:\n",
        "        cv_score = cross_validate(classifiers[i],\n",
        "                                  X_train,\n",
        "                                  y_train,\n",
        "                                  scoring=scoring,\n",
        "                                  cv=Kfold,\n",
        "                                  return_train_score=True,\n",
        "                                  return_estimator=True)\n",
        "\n",
        "        train_accuracy = cv_score['train_acc'].mean() * 100\n",
        "        \n",
        "        train_acc_results.append(train_accuracy)\n",
        "        cv_scores[classifier_name].append(cv_score)\n",
        "        i+=1\n",
        "    return np.array(train_acc_results), cv_scores"
      ]
    },
    {
      "cell_type": "code",
      "execution_count": null,
      "metadata": {
        "id": "H0dLYnPuIMRx"
      },
      "outputs": [],
      "source": [
        "scoring = {'acc': 'accuracy'}\n",
        "\n",
        "results, folds_scores = cv_fit_models()"
      ]
    },
    {
      "cell_type": "code",
      "execution_count": null,
      "metadata": {
        "id": "2N47fdq9IMPZ"
      },
      "outputs": [],
      "source": [
        "def pick_best_estimator():\n",
        "    best_estimators = {classifier_name: [] for classifier_name in classifiers_names}\n",
        "    for key, model in folds_scores.items():\n",
        "        best_acc_idx = np.argmax(model[0]['test_acc'])\n",
        "        best_model = model[0]['estimator'][best_acc_idx]\n",
        "        best_estimators[key].append(best_model)\n",
        "    return best_estimators"
      ]
    },
    {
      "cell_type": "code",
      "execution_count": null,
      "metadata": {
        "id": "mi5O8xeaIMMy"
      },
      "outputs": [],
      "source": [
        "best_estimators = pick_best_estimator()"
      ]
    },
    {
      "cell_type": "code",
      "execution_count": null,
      "metadata": {
        "colab": {
          "base_uri": "https://localhost:8080/"
        },
        "id": "ry8Gwy5EIMJ_",
        "outputId": "e550667a-c1f5-44fb-ebf5-9881751ee54e"
      },
      "outputs": [
        {
          "name": "stdout",
          "output_type": "stream",
          "text": [
            "{'test_acc': array([0.70454545, 0.68181818, 0.75      , 0.72727273, 0.61363636,\n",
            "       0.61363636, 0.75      , 0.65909091, 0.68181818]), 'precision': array([0.7469697 , 0.68181818, 0.77582645, 0.72727273, 0.67045455,\n",
            "       0.61800699, 0.7625    , 0.67272727, 0.73311005]), 'recall': array([0.70454545, 0.68181818, 0.75      , 0.72727273, 0.61363636,\n",
            "       0.61363636, 0.75      , 0.65909091, 0.68181818])}\n"
          ]
        }
      ],
      "source": [
        "test_accs, precisions, recalls = [], [], []\n",
        "for estimator_val in best_estimators.values():\n",
        "  estimator = estimator_val[0]\n",
        "  y_pred = estimator.predict(X_test)\n",
        "  precision = precision_score(y_test, y_pred, average='weighted')\n",
        "  recall = recall_score(y_test, y_pred, average='weighted')\n",
        "  score = estimator.score(X_test, y_test)\n",
        "\n",
        "  test_accs.append(score)\n",
        "  precisions.append(precision)\n",
        "  recalls.append(recall)\n",
        "        \n",
        "  scores = {'test_acc': np.array(test_accs),\n",
        "              'precision': np.array(precisions),\n",
        "              'recall': np.array(recalls)}\n",
        "\n",
        "print(scores)"
      ]
    },
    {
      "cell_type": "code",
      "execution_count": null,
      "metadata": {
        "id": "xiQ6oy4mIMBP"
      },
      "outputs": [],
      "source": [
        "def plot_train_test_accuracy(df):\n",
        "    _, ax = plt.subplots(nrows=2, ncols=1, figsize=(15, 15))\n",
        "    sns.barplot(data=df, x='train_accuracy',\n",
        "                y='Model', orient='h', ax=ax[0])\n",
        "    ax[0].set_xlim([0, 100])\n",
        "    sns.barplot(data=df, x='test_accuracy',\n",
        "                y='Model', orient='h', ax=ax[1])\n",
        "    ax[1].set_xlim([0, 100])"
      ]
    },
    {
      "cell_type": "code",
      "execution_count": null,
      "metadata": {
        "id": "_kzfvMB9IL-g"
      },
      "outputs": [],
      "source": [
        "results_df = pd.DataFrame({'Model': classifiers_names,\n",
        "                           'train_accuracy': results,\n",
        "                           'test_accuracy': scores['test_acc'] * 100,\n",
        "                           'test_precision': scores['precision'] * 100,\n",
        "                           'test_recall': scores['recall'] * 100})"
      ]
    },
    {
      "cell_type": "code",
      "execution_count": null,
      "metadata": {
        "id": "2040G-63IL75"
      },
      "outputs": [],
      "source": [
        "plot_train_test_accuracy(results_df)"
      ]
    },
    {
      "cell_type": "code",
      "execution_count": null,
      "metadata": {
        "colab": {
          "base_uri": "https://localhost:8080/"
        },
        "id": "pIGCkwdcIL5V",
        "outputId": "00948c68-f090-4280-d2e4-c745ae5fd47c"
      },
      "outputs": [
        {
          "data": {
            "text/plain": [
              "array([1, 1, 0, 1, 0, 0, 0, 0, 1, 1, 0, 0, 1, 0, 0, 1, 0, 0, 0, 0, 1, 0,\n",
              "       0, 0, 1, 1, 0, 1, 0, 1, 0, 1, 0, 0, 1, 1, 0, 0, 0, 1, 1, 0, 1, 1])"
            ]
          },
          "execution_count": 63,
          "metadata": {},
          "output_type": "execute_result"
        }
      ],
      "source": [
        "%%time\n",
        "estimator.predict(X_test)"
      ]
    },
    {
      "cell_type": "code",
      "execution_count": null,
      "metadata": {
        "colab": {
          "base_uri": "https://localhost:8080/"
        },
        "id": "s67VRzWzIL2u",
        "outputId": "e643c068-bffe-427c-fa3b-122c85f44c34"
      },
      "outputs": [
        {
          "name": "stdout",
          "output_type": "stream",
          "text": [
            "[1 1 0 1 0 0 0 0 1 1 0 0 1 0 0 1 0 0 0 0 1 0 0 0 1 1 0 1 0 1 0 1 0 0 1 1 0\n",
            " 0 0 1 1 0 1 1]\n"
          ]
        }
      ],
      "source": [
        "for estimator_val in best_estimators.values():\n",
        "  estimator = estimator_val[0]\n",
        "  y_pred = estimator.predict(X_test)\n",
        "\n",
        "print(y_pred)"
      ]
    },
    {
      "cell_type": "code",
      "execution_count": null,
      "metadata": {
        "colab": {
          "base_uri": "https://localhost:8080/",
          "height": 595
        },
        "id": "JAeDujuAYv4F",
        "outputId": "7d6ca6a3-afe4-4bbc-e2bd-7fbbb7313b13"
      },
      "outputs": [
        {
          "name": "stdout",
          "output_type": "stream",
          "text": [
            "X features= ['MedInc', 'HouseAge', 'AveRooms', 'AveBedrms', 'Population', 'AveOccup', 'Latitude', 'Longitude']\n",
            "   MedInc  HouseAge  AveRooms  AveBedrms  Population  AveOccup  Latitude  \\\n",
            "0  8.3252      41.0  6.984127   1.023810       322.0  2.555556     37.88   \n",
            "1  8.3014      21.0  6.238137   0.971880      2401.0  2.109842     37.86   \n",
            "2  7.2574      52.0  8.288136   1.073446       496.0  2.802260     37.85   \n",
            "3  5.6431      52.0  5.817352   1.073059       558.0  2.547945     37.85   \n",
            "4  3.8462      52.0  6.281853   1.081081       565.0  2.181467     37.85   \n",
            "\n",
            "   Longitude  \n",
            "0    -122.23  \n",
            "1    -122.22  \n",
            "2    -122.24  \n",
            "3    -122.25  \n",
            "4    -122.25  \n",
            "(20640, 10) (13828, 10) (6812, 10)\n"
          ]
        },
        {
          "data": {
            "text/plain": [
              "<matplotlib.axes._subplots.AxesSubplot at 0x7fe88f0cdca0>"
            ]
          },
          "execution_count": 19,
          "metadata": {},
          "output_type": "execute_result"
        },
        {
          "data": {
            "image/png": "[encoded data removed]",
            "text/plain": [
              "<Figure size 432x288 with 1 Axes>"
            ]
          },
          "metadata": {},
          "output_type": "display_data"
        }
      ],
      "source": [
        "import pandas as pd\n",
        "import numpy as np\n",
        "import matplotlib as plt\n",
        "from sklearn.model_selection import train_test_split\n",
        "from sklearn.datasets import fetch_california_housing\n",
        "cal_housing = fetch_california_housing()\n",
        "X = pd.DataFrame(cal_housing.data, columns=cal_housing.feature_names)\n",
        "Y = cal_housing.target\n",
        "df11 = X.copy()\n",
        "df11['y'] = Y * 100000 # The raw value is in 100,000.\n",
        "X_features = cal_housing.feature_names\n",
        "print(\"X features=\", X_features)\n",
        "print(X.head())\n",
        "# Make the multi-class target\n",
        "def val_y(Y):\n",
        "    if Y<=100000:\n",
        "        return '(1) <=100k'\n",
        "    elif Y<=160000:\n",
        "        return '(2) 100k - 160k'\n",
        "    elif Y<=240000:\n",
        "        return '(3) 160k - 240k'\n",
        "    else:\n",
        "        return '(4) 240k+'\n",
        "    \n",
        "df11['y_class'] = df11['y'].apply(val_y)\n",
        "\n",
        "train, test = train_test_split(df11, test_size=0.33, random_state=42)\n",
        "print(df11.shape, train.shape, test.shape)\n",
        "\n",
        "df11['y_class'].hist(xrot=45)"
      ]
    },
    {
      "cell_type": "code",
      "execution_count": null,
      "metadata": {
        "id": "WY7IJZK6ZOnf"
      },
      "outputs": [],
      "source": [
        "x"
      ]
    },
    {
      "cell_type": "code",
      "execution_count": null,
      "metadata": {
        "colab": {
          "base_uri": "https://localhost:8080/"
        },
        "id": "0gJWAfkqZV8O",
        "outputId": "4a1c777b-e3a0-4fe2-c87e-fa1f4b6793cc"
      },
      "outputs": [
        {
          "data": {
            "text/plain": [
              "0     0\n",
              "1     0\n",
              "2     0\n",
              "3     0\n",
              "4     0\n",
              "     ..\n",
              "64    3\n",
              "65    3\n",
              "66    3\n",
              "67    3\n",
              "68    3\n",
              "Name: type, Length: 69, dtype: int64"
            ]
          },
          "execution_count": 21,
          "metadata": {},
          "output_type": "execute_result"
        }
      ],
      "source": [
        "y"
      ]
    },
    {
      "cell_type": "code",
      "execution_count": null,
      "metadata": {
        "colab": {
          "base_uri": "https://localhost:8080/"
        },
        "id": "4sYbygOLaWA8",
        "outputId": "fbe9c780-5693-4bc5-caec-e70366da9dee"
      },
      "outputs": [
        {
          "name": "stdout",
          "output_type": "stream",
          "text": [
            "(69, 11) (46, 11) (23, 11)\n"
          ]
        }
      ],
      "source": [
        "x_features = .feature_names\n",
        "print(\"X features=\", x_features)\n",
        "def val_y(y):\n",
        "    if y<=0:\n",
        "        return '(0) Very Bad'\n",
        "    elif y<=1:\n",
        "        return '(1) Bad'\n",
        "    elif y<=2:\n",
        "        return '(2) Good'\n",
        "    else:\n",
        "        return '(3) Very Good'\n",
        "  \n",
        "df['y_class'] = df['type'].apply(val_y)\n",
        "train, test = train_test_split(df, test_size=0.33, random_state=43) \n",
        "# X_train, X_test, y_train, y_test = train_test_split(x, y, test_size=0.33,random_state=545)\n",
        "print(df.shape, train.shape, test.shape)\n"
      ]
    },
    {
      "cell_type": "code",
      "execution_count": null,
      "metadata": {
        "id": "Td7yO_n6eVNo"
      },
      "outputs": [],
      "source": [
        "x_train, x_test, y_train, y_test = train_test_split(x, y, test_size=0.33)"
      ]
    },
    {
      "cell_type": "code",
      "execution_count": null,
      "metadata": {
        "colab": {
          "base_uri": "https://localhost:8080/"
        },
        "id": "OiYUJjIcdi6J",
        "outputId": "ca7ce9bc-3f63-4330-894e-f5b25c984695"
      },
      "outputs": [
        {
          "name": "stdout",
          "output_type": "stream",
          "text": [
            "Mean Accuracy: 0.620 (0.240)\n"
          ]
        }
      ],
      "source": [
        "# define the multinomial logistic regression model\n",
        "# model = LogisticRegression(multi_class='multinomial', solver='lbfgs')\n",
        "# evaluate multinomial logistic regression model\n",
        "from numpy import mean\n",
        "from numpy import std\n",
        "from sklearn.datasets import make_classification\n",
        "from sklearn.model_selection import cross_val_score\n",
        "from sklearn.model_selection import RepeatedStratifiedKFold\n",
        "from sklearn.linear_model import LogisticRegression\n",
        "# define dataset\n",
        "# x, y =\n",
        "# define the multinomial logistic regression model\n",
        "model = LogisticRegression(multi_class='multinomial', solver='lbfgs', penalty='l2', C=1.0)\n",
        "# define the model evaluation procedure\n",
        "# cv = RepeatedStratifiedKFold(n_splits=2, n_repeats=3, random_state=3)\n",
        "# evaluate the model and collect the scores\n",
        "n_scores = cross_val_score(model, x_test, y_test, scoring='accuracy',  n_jobs=-1)\n",
        "\n",
        "# report the model performance\n",
        "print('Mean Accuracy: %.3f (%.3f)' % (mean(n_scores), std(n_scores)))"
      ]
    },
    {
      "cell_type": "code",
      "execution_count": null,
      "metadata": {
        "colab": {
          "base_uri": "https://localhost:8080/"
        },
        "id": "3rHok7Rvik5r",
        "outputId": "8fd43fbb-2988-49d8-d708-f52c355d9578"
      },
      "outputs": [
        {
          "data": {
            "text/plain": [
              "array([[0],\n",
              "       [0],\n",
              "       [0],\n",
              "       [0],\n",
              "       [0],\n",
              "       [0],\n",
              "       [0],\n",
              "       [0],\n",
              "       [0],\n",
              "       [0],\n",
              "       [0],\n",
              "       [0],\n",
              "       [0],\n",
              "       [0],\n",
              "       [0],\n",
              "       [0],\n",
              "       [0],\n",
              "       [0],\n",
              "       [0],\n",
              "       [0],\n",
              "       [0],\n",
              "       [1],\n",
              "       [1],\n",
              "       [1],\n",
              "       [1],\n",
              "       [1],\n",
              "       [1],\n",
              "       [1],\n",
              "       [1],\n",
              "       [1],\n",
              "       [1],\n",
              "       [2],\n",
              "       [2],\n",
              "       [2],\n",
              "       [2],\n",
              "       [2],\n",
              "       [2],\n",
              "       [2],\n",
              "       [2],\n",
              "       [2],\n",
              "       [2],\n",
              "       [2],\n",
              "       [2],\n",
              "       [2],\n",
              "       [3],\n",
              "       [3],\n",
              "       [3],\n",
              "       [3],\n",
              "       [3],\n",
              "       [3],\n",
              "       [3],\n",
              "       [3],\n",
              "       [3],\n",
              "       [3],\n",
              "       [3],\n",
              "       [3],\n",
              "       [3],\n",
              "       [3],\n",
              "       [3],\n",
              "       [3],\n",
              "       [3],\n",
              "       [3],\n",
              "       [3],\n",
              "       [3],\n",
              "       [3],\n",
              "       [3],\n",
              "       [3],\n",
              "       [3],\n",
              "       [3]])"
            ]
          },
          "execution_count": 106,
          "metadata": {},
          "output_type": "execute_result"
        }
      ],
      "source": [
        "y"
      ]
    },
    {
      "cell_type": "code",
      "execution_count": null,
      "metadata": {
        "id": "ILjntOUdgGBD"
      },
      "outputs": [],
      "source": [
        "# Fitting Random Forest Classification to the Training set\n",
        "classifier = RandomForestClassifier(n_estimators = 10, criterion = 'entropy', random_state = 42)\n",
        "classifier.fit(X_train, y_train)\n",
        "# Predicting the Test set results\n",
        "y_pred = classifier.predict(X_test)\n",
        "#Reverse factorize (converting y_pred from 0s,1s and 2s to Iris-setosa, Iris-versicolor and Iris-virginica\n",
        "reversefactor = dict(zip(range(3),definitions))\n",
        "y_test = np.vectorize(reversefactor.get)(y_test)\n",
        "y_pred = np.vectorize(reversefactor.get)(y_pred)\n",
        "# Making the Confusion Matrix\n",
        "print(pd.crosstab(y_test, y_pred, rownames=['Actual Species'], colnames=['Predicted Species']))"
      ]
    },
    {
      "cell_type": "code",
      "execution_count": null,
      "metadata": {
        "colab": {
          "base_uri": "https://localhost:8080/",
          "height": 397
        },
        "id": "Vdr_jPED9xIX",
        "outputId": "4a85f4e9-3f77-4647-e650-0ad1c666a169"
      },
      "outputs": [
        {
          "ename": "KeyError",
          "evalue": "ignored",
          "output_type": "error",
          "traceback": [
            "\u001b[0;31m---------------------------------------------------------------------------\u001b[0m",
            "\u001b[0;31mKeyError\u001b[0m                                  Traceback (most recent call last)",
            "\u001b[0;32m<ipython-input-23-4262ef9ef9be>\u001b[0m in \u001b[0;36m<module>\u001b[0;34m\u001b[0m\n\u001b[1;32m      3\u001b[0m \u001b[0;31m#modeling\u001b[0m\u001b[0;34m\u001b[0m\u001b[0;34m\u001b[0m\u001b[0;34m\u001b[0m\u001b[0m\n\u001b[1;32m      4\u001b[0m \u001b[0mLM_model\u001b[0m \u001b[0;34m=\u001b[0m \u001b[0mLogisticRegression\u001b[0m\u001b[0;34m(\u001b[0m\u001b[0mpenalty\u001b[0m\u001b[0;34m=\u001b[0m\u001b[0;34m'l2'\u001b[0m\u001b[0;34m,\u001b[0m \u001b[0mmax_iter\u001b[0m\u001b[0;34m=\u001b[0m\u001b[0;36m500\u001b[0m\u001b[0;34m,\u001b[0m \u001b[0mmulti_class\u001b[0m\u001b[0;34m=\u001b[0m\u001b[0;34m'ovr'\u001b[0m\u001b[0;34m,\u001b[0m \u001b[0msolver\u001b[0m\u001b[0;34m=\u001b[0m\u001b[0;34m'liblinear'\u001b[0m\u001b[0;34m)\u001b[0m\u001b[0;34m\u001b[0m\u001b[0;34m\u001b[0m\u001b[0m\n\u001b[0;32m----> 5\u001b[0;31m \u001b[0mLM_model\u001b[0m\u001b[0;34m.\u001b[0m\u001b[0mfit\u001b[0m\u001b[0;34m(\u001b[0m\u001b[0mtrain\u001b[0m\u001b[0;34m[\u001b[0m\u001b[0mX_features\u001b[0m\u001b[0;34m]\u001b[0m\u001b[0;34m,\u001b[0m\u001b[0mtrain\u001b[0m\u001b[0;34m[\u001b[0m\u001b[0;34m'y_class'\u001b[0m\u001b[0;34m]\u001b[0m\u001b[0;34m)\u001b[0m\u001b[0;34m\u001b[0m\u001b[0;34m\u001b[0m\u001b[0m\n\u001b[0m\u001b[1;32m      6\u001b[0m \u001b[0;34m\u001b[0m\u001b[0m\n\u001b[1;32m      7\u001b[0m \u001b[0;31m# Prediction\u001b[0m\u001b[0;34m\u001b[0m\u001b[0;34m\u001b[0m\u001b[0;34m\u001b[0m\u001b[0m\n",
            "\u001b[0;32m/usr/local/lib/python3.8/dist-packages/pandas/core/frame.py\u001b[0m in \u001b[0;36m__getitem__\u001b[0;34m(self, key)\u001b[0m\n\u001b[1;32m   3462\u001b[0m             \u001b[0;32mif\u001b[0m \u001b[0mis_iterator\u001b[0m\u001b[0;34m(\u001b[0m\u001b[0mkey\u001b[0m\u001b[0;34m)\u001b[0m\u001b[0;34m:\u001b[0m\u001b[0;34m\u001b[0m\u001b[0;34m\u001b[0m\u001b[0m\n\u001b[1;32m   3463\u001b[0m                 \u001b[0mkey\u001b[0m \u001b[0;34m=\u001b[0m \u001b[0mlist\u001b[0m\u001b[0;34m(\u001b[0m\u001b[0mkey\u001b[0m\u001b[0;34m)\u001b[0m\u001b[0;34m\u001b[0m\u001b[0;34m\u001b[0m\u001b[0m\n\u001b[0;32m-> 3464\u001b[0;31m             \u001b[0mindexer\u001b[0m \u001b[0;34m=\u001b[0m \u001b[0mself\u001b[0m\u001b[0;34m.\u001b[0m\u001b[0mloc\u001b[0m\u001b[0;34m.\u001b[0m\u001b[0m_get_listlike_indexer\u001b[0m\u001b[0;34m(\u001b[0m\u001b[0mkey\u001b[0m\u001b[0;34m,\u001b[0m \u001b[0maxis\u001b[0m\u001b[0;34m=\u001b[0m\u001b[0;36m1\u001b[0m\u001b[0;34m)\u001b[0m\u001b[0;34m[\u001b[0m\u001b[0;36m1\u001b[0m\u001b[0;34m]\u001b[0m\u001b[0;34m\u001b[0m\u001b[0;34m\u001b[0m\u001b[0m\n\u001b[0m\u001b[1;32m   3465\u001b[0m \u001b[0;34m\u001b[0m\u001b[0m\n\u001b[1;32m   3466\u001b[0m         \u001b[0;31m# take() does not accept boolean indexers\u001b[0m\u001b[0;34m\u001b[0m\u001b[0;34m\u001b[0m\u001b[0;34m\u001b[0m\u001b[0m\n",
            "\u001b[0;32m/usr/local/lib/python3.8/dist-packages/pandas/core/indexing.py\u001b[0m in \u001b[0;36m_get_listlike_indexer\u001b[0;34m(self, key, axis)\u001b[0m\n\u001b[1;32m   1312\u001b[0m             \u001b[0mkeyarr\u001b[0m\u001b[0;34m,\u001b[0m \u001b[0mindexer\u001b[0m\u001b[0;34m,\u001b[0m \u001b[0mnew_indexer\u001b[0m \u001b[0;34m=\u001b[0m \u001b[0max\u001b[0m\u001b[0;34m.\u001b[0m\u001b[0m_reindex_non_unique\u001b[0m\u001b[0;34m(\u001b[0m\u001b[0mkeyarr\u001b[0m\u001b[0;34m)\u001b[0m\u001b[0;34m\u001b[0m\u001b[0;34m\u001b[0m\u001b[0m\n\u001b[1;32m   1313\u001b[0m \u001b[0;34m\u001b[0m\u001b[0m\n\u001b[0;32m-> 1314\u001b[0;31m         \u001b[0mself\u001b[0m\u001b[0;34m.\u001b[0m\u001b[0m_validate_read_indexer\u001b[0m\u001b[0;34m(\u001b[0m\u001b[0mkeyarr\u001b[0m\u001b[0;34m,\u001b[0m \u001b[0mindexer\u001b[0m\u001b[0;34m,\u001b[0m \u001b[0maxis\u001b[0m\u001b[0;34m)\u001b[0m\u001b[0;34m\u001b[0m\u001b[0;34m\u001b[0m\u001b[0m\n\u001b[0m\u001b[1;32m   1315\u001b[0m \u001b[0;34m\u001b[0m\u001b[0m\n\u001b[1;32m   1316\u001b[0m         if needs_i8_conversion(ax.dtype) or isinstance(\n",
            "\u001b[0;32m/usr/local/lib/python3.8/dist-packages/pandas/core/indexing.py\u001b[0m in \u001b[0;36m_validate_read_indexer\u001b[0;34m(self, key, indexer, axis)\u001b[0m\n\u001b[1;32m   1372\u001b[0m                 \u001b[0;32mif\u001b[0m \u001b[0muse_interval_msg\u001b[0m\u001b[0;34m:\u001b[0m\u001b[0;34m\u001b[0m\u001b[0;34m\u001b[0m\u001b[0m\n\u001b[1;32m   1373\u001b[0m                     \u001b[0mkey\u001b[0m \u001b[0;34m=\u001b[0m \u001b[0mlist\u001b[0m\u001b[0;34m(\u001b[0m\u001b[0mkey\u001b[0m\u001b[0;34m)\u001b[0m\u001b[0;34m\u001b[0m\u001b[0;34m\u001b[0m\u001b[0m\n\u001b[0;32m-> 1374\u001b[0;31m                 \u001b[0;32mraise\u001b[0m \u001b[0mKeyError\u001b[0m\u001b[0;34m(\u001b[0m\u001b[0;34mf\"None of [{key}] are in the [{axis_name}]\"\u001b[0m\u001b[0;34m)\u001b[0m\u001b[0;34m\u001b[0m\u001b[0;34m\u001b[0m\u001b[0m\n\u001b[0m\u001b[1;32m   1375\u001b[0m \u001b[0;34m\u001b[0m\u001b[0m\n\u001b[1;32m   1376\u001b[0m             \u001b[0mnot_found\u001b[0m \u001b[0;34m=\u001b[0m \u001b[0mlist\u001b[0m\u001b[0;34m(\u001b[0m\u001b[0mensure_index\u001b[0m\u001b[0;34m(\u001b[0m\u001b[0mkey\u001b[0m\u001b[0;34m)\u001b[0m\u001b[0;34m[\u001b[0m\u001b[0mmissing_mask\u001b[0m\u001b[0;34m.\u001b[0m\u001b[0mnonzero\u001b[0m\u001b[0;34m(\u001b[0m\u001b[0;34m)\u001b[0m\u001b[0;34m[\u001b[0m\u001b[0;36m0\u001b[0m\u001b[0;34m]\u001b[0m\u001b[0;34m]\u001b[0m\u001b[0;34m.\u001b[0m\u001b[0munique\u001b[0m\u001b[0;34m(\u001b[0m\u001b[0;34m)\u001b[0m\u001b[0;34m)\u001b[0m\u001b[0;34m\u001b[0m\u001b[0;34m\u001b[0m\u001b[0m\n",
            "\u001b[0;31mKeyError\u001b[0m: \"None of [Index(['MedInc', 'HouseAge', 'AveRooms', 'AveBedrms', 'Population', 'AveOccup',\\n       'Latitude', 'Longitude'],\\n      dtype='object')] are in the [columns]\""
          ]
        }
      ],
      "source": [
        "from sklearn.linear_model import LogisticRegression\n",
        "\n",
        "#modeling\n",
        "LM_model = LogisticRegression(penalty='l2', max_iter=500, multi_class='ovr', solver='liblinear')\n",
        "LM_model.fit(train[X_features],train['y_class'])\n",
        "\n",
        "# Prediction\n",
        "LM_pred_prob = pd.DataFrame(LM_model.predict_proba(test[X_features]))\n",
        "LM_pred = pd.DataFrame(LM_model.predict(test[X_features]))\n",
        "LM_pred = pd.concat([test.reset_index()['y_class'],LM_pred_prob,LM_pred],axis=1, ignore_index=True)\n",
        "print(LM_pred.shape)\n",
        "\n",
        "LM_pred.columns = ['Actual','(0) Very Bad', '(1) Bad','(2) Good', '(3) Very Good', 'Y_pred']\n",
        "LM_pred.head()"
      ]
    },
    {
      "cell_type": "code",
      "execution_count": null,
      "metadata": {
        "id": "TWAcDVEv9xGA"
      },
      "outputs": [],
      "source": [
        "pd.crosstab(LM_pred['Y_pred'],LM_pred['Actual']) #.apply(lambda x: x/x.sum(), axis=1)\n"
      ]
    },
    {
      "cell_type": "code",
      "execution_count": null,
      "metadata": {
        "id": "oD2O3rF1EF0E"
      },
      "outputs": [],
      "source": [
        "pd.crosstab(LM_pred['Y_pred'],LM_pred['Actual']).apply(lambda x: x/x.sum(), axis=1).round(2)\n"
      ]
    },
    {
      "cell_type": "code",
      "execution_count": null,
      "metadata": {
        "id": "eq4murooEFxF"
      },
      "outputs": [],
      "source": [
        "from sklearn.tree import DecisionTreeClassifier\n",
        "\n",
        "# Modeling\n",
        "dt_model = DecisionTreeClassifier(random_state=0).fit(train[X_features],train['y_class'])\n",
        "\n",
        "# Prediction\n",
        "def Prediction(model):\n",
        "    pred_prob = pd.DataFrame(model.predict_proba(test[X_features]))\n",
        "    pred = pd.DataFrame(model.predict(test[X_features]))\n",
        "    pred = pd.concat([test.reset_index()['y_class'],pred_prob,pred],axis=1, ignore_index=True)\n",
        "    pred.columns = ['Actual','Y_prob (1) <=100k', 'Y_prob (2) 100k - 160k','Y_prob (3) 160k - 240k', 'Y_prob (4) 240k+', 'Y_pred']\n",
        "    return(pred)\n",
        "dt_pred = Prediction(dt_model)  \n",
        "\n",
        "# Actual vs. Prediction\n",
        "pd.crosstab(dt_pred['Y_pred'],dt_pred['Actual']).apply(lambda x: x/x.sum(), axis=1).round(2)"
      ]
    },
    {
      "cell_type": "code",
      "execution_count": null,
      "metadata": {
        "id": "YmmxrGTFEFuQ"
      },
      "outputs": [],
      "source": [
        "from sklearn.ensemble import RandomForestClassifier\n",
        "\n",
        "# Modeling\n",
        "rf_model = RandomForestClassifier(max_depth=8, random_state=0).fit(train[X_features],train['y_class'])\n",
        "rf_pred = Prediction(rf_model)  \n",
        "\n",
        "# Actual vs. Prediction\n",
        "pd.crosstab(rf_pred['Y_pred'],rf_pred['Actual']).apply(lambda x: x/x.sum(), axis=1).round(2)"
      ]
    },
    {
      "cell_type": "code",
      "execution_count": null,
      "metadata": {
        "id": "2XQDes7dEFrE"
      },
      "outputs": [],
      "source": [
        "from sklearn.neighbors import KNeighborsClassifier\n",
        "KNN_model = KNeighborsClassifier(n_neighbors=3).fit(train[X_features],train['y_class'])\n",
        "KNN_pred = Prediction(KNN_model)    \n",
        "pd.crosstab(KNN_pred['Y_pred'],KNN_pred['Actual']).apply(lambda x: x/x.sum(), axis=1).round(2)"
      ]
    },
    {
      "cell_type": "code",
      "execution_count": null,
      "metadata": {
        "id": "zRAsIZfYEFoB"
      },
      "outputs": [],
      "source": [
        "def accuracy(predictions, ground_truth):\n",
        "    correct_predictions = np.sum(predictions == ground_truth)\n",
        "    accuracy = correct_predictions / len(ground_truth)\n",
        "    return accuracy\n",
        "\n",
        "# Example usage\n",
        "predictions = [0, 1, 2, 2, 1, 0, 0, 2, 1, 2]\n",
        "ground_truth = [0, 1, 2, 2, 1, 0, 0, 2, 1, 1]\n",
        "\n",
        "acc = accuracy(predictions, ground_truth)\n",
        "print(\"Accuracy: \", acc)\n"
      ]
    },
    {
      "cell_type": "code",
      "execution_count": null,
      "metadata": {
        "id": "K_ARFdyXEFgh"
      },
      "outputs": [],
      "source": [
        "(accuracy <- sum(diag(mat)) / sum(mat))\n"
      ]
    }
  ],
  "metadata": {
    "colab": {
      "provenance": []
    },
    "kernelspec": {
      "display_name": "Python 3",
      "name": "python3"
    },
    "language_info": {
      "name": "python"
    }
  },
  "nbformat": 4,
  "nbformat_minor": 0
}